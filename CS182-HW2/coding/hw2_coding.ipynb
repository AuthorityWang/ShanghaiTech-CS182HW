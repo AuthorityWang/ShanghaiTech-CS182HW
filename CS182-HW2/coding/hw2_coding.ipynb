{
 "cells": [
  {
   "attachments": {},
   "cell_type": "markdown",
   "metadata": {},
   "source": [
    "# SVM\n",
    "We will be utilizing the Scikit Learn SVM package for this homework, as you had practiced before in Tutorial. You may find it helpful to review the Scikit Learn's SVM documentation (http://scikit-learn.org/stable/modules/svm.html).\n",
    "\n",
    "We apply soft-margin SVM to handwritten digits from the processed US Postal Service Zip Code data set. The 2D data represents extracted features of intensity and symmetry for training and testing. \n",
    "\n",
    "**Hint**:\n",
    "- Answers without corresponding experimentation to validate your findings will be assigned minimal partial credit.\n",
    "- Submitting the .ipynb file and the corresponding .pdf file."
   ]
  },
  {
   "cell_type": "code",
   "execution_count": 1,
   "metadata": {},
   "outputs": [],
   "source": [
    "# import libraries\n",
    "import numpy as np\n",
    "from sklearn.svm import SVC\n",
    "# calculating accuracy\n",
    "from sklearn.metrics import accuracy_score"
   ]
  },
  {
   "cell_type": "code",
   "execution_count": 2,
   "metadata": {},
   "outputs": [],
   "source": [
    "### Loading data\n",
    "trainData = np.loadtxt('features.train')\n",
    "testData = np.loadtxt('features.test')"
   ]
  },
  {
   "cell_type": "code",
   "execution_count": 3,
   "metadata": {},
   "outputs": [],
   "source": [
    "# spliting data for features and labels\n",
    "dataTrain = trainData[:,1:]\n",
    "labelTrain = trainData[:,0]\n",
    "dataTest = testData[:,1:]\n",
    "labelTest = testData[:,0]"
   ]
  },
  {
   "cell_type": "code",
   "execution_count": 4,
   "metadata": {},
   "outputs": [],
   "source": [
    "def cout(kernel,totalSV,trainAccuracy,testAccuracy):\n",
    "    # report your results \n",
    "    print(\"Kernel: \"+ str(kernel))\n",
    "    print(\"Number of Support Vectors: \"+ str(totalSV))\n",
    "    print(\"Train Accuracy: \"+ str(trainAccuracy))\n",
    "    print(\"Test Accuracy: \" + str(testAccuracy))"
   ]
  },
  {
   "attachments": {},
   "cell_type": "markdown",
   "metadata": {},
   "source": [
    "# linear Kernel(20pts)"
   ]
  },
  {
   "attachments": {},
   "cell_type": "markdown",
   "metadata": {},
   "source": [
    "Consider the linear kernel $K(x_n, x_m) = x_n^Tx_m$. Displaying the outpout by above funtion $cout$."
   ]
  },
  {
   "cell_type": "code",
   "execution_count": null,
   "metadata": {},
   "outputs": [],
   "source": [
    "\"\"\"\n",
    "Three variables assigned   by yourself.\n",
    "predTrain : Predicted results on the training set\n",
    "predTest : Predicted results on the test set\n",
    "totalSV: The number of support vectors \n",
    "\"\"\"\n",
    "\n",
    "kernel = \"linear\"\n",
    "### YOUR CODE HERE - Create and  train the model SVM \n",
    "\n",
    "### YOUR CODE HERE - predict on the training set \n",
    "\n",
    "### YOUR CODE HERE - predict on the test set \n",
    "\n",
    "### YOUR CODE HERE - account the number of support vectors \n",
    "\n",
    "trainAccuracy = accuracy_score(labelTrain,predTrain)\n",
    "testAccuracy = accuracy_score(labelTest,predTest)\n",
    "cout(kernel,totalSV,trainAccuracy,testAccuracy)\n"
   ]
  },
  {
   "attachments": {},
   "cell_type": "markdown",
   "metadata": {},
   "source": [
    "# polynomial kernel(20pts)\n",
    "Consider the polynomial kernel $K(xn, xm) = (1 + x_n^Tx_m)^Q$, where Q is the degree of the polynomial. When C=0.01, which value of $Q\\in\\{2,5\\}$ results in the highest testAccuracy?\n",
    "\n"
   ]
  },
  {
   "attachments": {},
   "cell_type": "markdown",
   "metadata": {},
   "source": [
    "Answer: $Q=2$"
   ]
  },
  {
   "cell_type": "code",
   "execution_count": null,
   "metadata": {},
   "outputs": [],
   "source": [
    "kernel = \"poly\"\n",
    "\n",
    "for Q in [2,5]:\n",
    "    print(\"#########\"+str(Q)+\"#############\")\n",
    "    ### YOUR CODE HERE - Create and  train the model SVM \n",
    "\n",
    "    ### YOUR CODE HERE - predict on the training set \n",
    "\n",
    "    ### YOUR CODE HERE - predict on the testing set \n",
    "\n",
    "    ### YOUR CODE HERE - account the number of support vectors \n",
    "    \n",
    "    trainAccuracy = accuracy_score(labelTrain,predTrain)\n",
    "    testAccuracy = accuracy_score(labelTest,predTest)\n",
    "    cout(kernel,totalSV,trainAccuracy,testAccuracy)"
   ]
  },
  {
   "attachments": {},
   "cell_type": "markdown",
   "metadata": {},
   "source": [
    "# RBF Kernel(20pts)\n",
    "Consider the radial basis function (RBF) kernel $K(xn, xm) = exp(-||x_n - x_m||^2)$ in the soft-margin SVM approach. Which value of $C \\in\\{0.01, 1, 100, 10^4\\}$ results in the highest testAccuracy?\n",
    "\n",
    "\n"
   ]
  },
  {
   "attachments": {},
   "cell_type": "markdown",
   "metadata": {},
   "source": [
    "Answer: $C=10000$"
   ]
  },
  {
   "cell_type": "code",
   "execution_count": null,
   "metadata": {},
   "outputs": [],
   "source": [
    "kernel = \"rbf\"\n",
    "for C in [0.01,1,100,10**4]:\n",
    "    print(\"#########\"+str(C)+\"#############\")\n",
    "    ### YOUR CODE HERE - Create and  train the model SVM \n",
    "    \n",
    "    ### YOUR CODE HERE - predict on the training set \n",
    "\n",
    "    ### YOUR CODE HERE - predict on the testing set \n",
    "\n",
    "    ### YOUR CODE HERE - account the number of support vectors \n",
    "\n",
    "    \n",
    "    trainAccuracy = accuracy_score(labelTrain,predTrain)\n",
    "    testAccuracy = accuracy_score(labelTest,predTest)\n",
    "    cout(kernel,totalSV,trainAccuracy,testAccuracy)"
   ]
  }
 ],
 "metadata": {
  "kernelspec": {
   "display_name": "base",
   "language": "python",
   "name": "python3"
  },
  "language_info": {
   "codemirror_mode": {
    "name": "ipython",
    "version": 3
   },
   "file_extension": ".py",
   "mimetype": "text/x-python",
   "name": "python",
   "nbconvert_exporter": "python",
   "pygments_lexer": "ipython3",
   "version": "3.9.12"
  },
  "orig_nbformat": 4
 },
 "nbformat": 4,
 "nbformat_minor": 2
}
