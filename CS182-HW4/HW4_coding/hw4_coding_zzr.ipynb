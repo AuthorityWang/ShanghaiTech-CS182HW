{
 "cells": [
  {
   "attachments": {},
   "cell_type": "markdown",
   "metadata": {},
   "source": [
    "# CS182_HW4_Coding.pdf is the instruction of this part."
   ]
  },
  {
   "cell_type": "code",
   "execution_count": 1,
   "metadata": {},
   "outputs": [],
   "source": [
    "import numpy as np\n",
    "import scipy.io\n",
    "import matplotlib.pyplot as plt"
   ]
  },
  {
   "attachments": {},
   "cell_type": "markdown",
   "metadata": {},
   "source": [
    "# MNIST data"
   ]
  },
  {
   "cell_type": "code",
   "execution_count": 2,
   "metadata": {},
   "outputs": [],
   "source": [
    "data_filename = 'data/images.mat'\n",
    "data = scipy.io.loadmat(data_filename)\n",
    "data = data['train_images']"
   ]
  },
  {
   "attachments": {},
   "cell_type": "markdown",
   "metadata": {},
   "source": [
    "## Q1"
   ]
  },
  {
   "cell_type": "code",
   "execution_count": 21,
   "metadata": {},
   "outputs": [
    {
     "name": "stdout",
     "output_type": "stream",
     "text": [
      "(28, 28, 60000)\n"
     ]
    },
    {
     "name": "stderr",
     "output_type": "stream",
     "text": [
      "100%|██████████| 20/20 [00:28<00:00,  1.43s/it]\n"
     ]
    }
   ],
   "source": [
    "from tqdm import tqdm\n",
    "\n",
    "def k_means(k, max_iteration, data):\n",
    "    centers = {}\n",
    "    print(data.shape)\n",
    "    # random choose k centers\n",
    "    for i in range(k):\n",
    "        centers[i] = data[:,:,np.random.randint(0, data.shape[2])]\n",
    "    for i in tqdm(range(max_iteration)):\n",
    "        classifications = {}\n",
    "        for j in range(k):\n",
    "            classifications[j] = []\n",
    "        for img in range(data.shape[2]):\n",
    "            distances = []\n",
    "            for j in range(k):\n",
    "                distances.append(np.linalg.norm(data[:,:,img] - centers[j]))\n",
    "            classification = distances.index(min(distances))\n",
    "            classifications[classification].append(data[:,:,img])\n",
    "        prev_centers = centers.copy()\n",
    "        for c in classifications:\n",
    "            centers[c] = np.average(classifications[c], axis=0)\n",
    "        center_list = []\n",
    "        prevcenter_list = []\n",
    "        for cent in centers:\n",
    "            center_list.append(centers[cent])\n",
    "        for cent in prev_centers:\n",
    "            prevcenter_list.append(prev_centers[cent])\n",
    "        if np.linalg.norm(np.array(center_list)-np.array(prevcenter_list))<0.001:\n",
    "            print(\"iterations:\", i)\n",
    "            break\n",
    "    \n",
    "    return centers\n",
    "\n",
    "cluster5 = k_means(5, 20, data)\n",
    "# cluster10 = k_means(10, 200, data)\n",
    "# cluster20 = k_means(20, 200, data)"
   ]
  },
  {
   "attachments": {},
   "cell_type": "markdown",
   "metadata": {},
   "source": [
    "## Q2"
   ]
  },
  {
   "cell_type": "code",
   "execution_count": 22,
   "metadata": {},
   "outputs": [
    {
     "name": "stdout",
     "output_type": "stream",
     "text": [
      "cluster is 5\n"
     ]
    },
    {
     "data": {
      "image/png": "[encoded data removed]",
      "text/plain": [
       "<Figure size 1000x250 with 5 Axes>"
      ]
     },
     "metadata": {},
     "output_type": "display_data"
    }
   ],
   "source": [
    "print(\"cluster is 5\")\n",
    "fig, axs = plt.subplots(1, 5, figsize=(5*2, 1*2.5))\n",
    "for i in cluster5:\n",
    "    axs[i].imshow(cluster5[i], cmap='gray')\n",
    "    axs[i].axis('off')\n",
    "plt.show()\n",
    "\n",
    "# print(\"cluster is 10\")\n",
    "# fig, axs = plt.subplots(1, 10, figsize=(10*2, 1*2.5))\n",
    "# for i in cluster10:\n",
    "#     axs[i].imshow(cluster10[i], cmap='gray')\n",
    "#     axs[i].axis('off')\n",
    "# plt.show()\n",
    "\n",
    "# print(\"cluster is 20\")\n",
    "# fig, axs = plt.subplots(1, 20, figsize=(20*2, 1*2.5))\n",
    "# for i in cluster20:\n",
    "#     axs[i].imshow(cluster20[i], cmap='gray')\n",
    "#     axs[i].axis('off')\n",
    "# plt.show()"
   ]
  }
 ],
 "metadata": {
  "kernelspec": {
   "display_name": "base",
   "language": "python",
   "name": "python3"
  },
  "language_info": {
   "codemirror_mode": {
    "name": "ipython",
    "version": 3
   },
   "file_extension": ".py",
   "mimetype": "text/x-python",
   "name": "python",
   "nbconvert_exporter": "python",
   "pygments_lexer": "ipython3",
   "version": "3.9.16"
  },
  "orig_nbformat": 4
 },
 "nbformat": 4,
 "nbformat_minor": 2
}
