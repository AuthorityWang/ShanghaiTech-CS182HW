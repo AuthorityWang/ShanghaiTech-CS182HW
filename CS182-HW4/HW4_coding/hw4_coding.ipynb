{
 "cells": [
  {
   "attachments": {},
   "cell_type": "markdown",
   "metadata": {},
   "source": [
    "# CS182_HW4_Coding.pdf is the instruction of this part."
   ]
  },
  {
   "cell_type": "code",
   "execution_count": 1,
   "metadata": {},
   "outputs": [],
   "source": [
    "import numpy as np\n",
    "import scipy.io\n",
    "import matplotlib.pyplot as plt"
   ]
  },
  {
   "attachments": {},
   "cell_type": "markdown",
   "metadata": {},
   "source": [
    "# MNIST data"
   ]
  },
  {
   "cell_type": "code",
   "execution_count": 2,
   "metadata": {},
   "outputs": [],
   "source": [
    "data_filename = 'data/images.mat'\n",
    "data = scipy.io.loadmat(data_filename)\n",
    "data = data['train_images']"
   ]
  },
  {
   "attachments": {},
   "cell_type": "markdown",
   "metadata": {},
   "source": [
    "## Q1"
   ]
  },
  {
   "cell_type": "code",
   "execution_count": 11,
   "metadata": {},
   "outputs": [
    {
     "ename": "ValueError",
     "evalue": "operands could not be broadcast together with shapes (784,5) (60000,784) ",
     "output_type": "error",
     "traceback": [
      "\u001b[1;31m---------------------------------------------------------------------------\u001b[0m",
      "\u001b[1;31mValueError\u001b[0m                                Traceback (most recent call last)",
      "Cell \u001b[1;32mIn[11], line 32\u001b[0m\n\u001b[0;32m     29\u001b[0m \u001b[39m# clusters = [k_means_clustering(data.reshape(-1, 28*28), k) for k in Ks]\u001b[39;00m\n\u001b[0;32m     30\u001b[0m \u001b[39m# print(clusters[0].shape)\u001b[39;00m\n\u001b[0;32m     31\u001b[0m k \u001b[39m=\u001b[39m \u001b[39m5\u001b[39m\n\u001b[1;32m---> 32\u001b[0m cluster_assignment, cluster_centers \u001b[39m=\u001b[39m lloyd_kmeans(data\u001b[39m.\u001b[39;49mreshape(\u001b[39m-\u001b[39;49m\u001b[39m1\u001b[39;49m, \u001b[39m28\u001b[39;49m\u001b[39m*\u001b[39;49m\u001b[39m28\u001b[39;49m), k)\n\u001b[0;32m     34\u001b[0m fig, axs \u001b[39m=\u001b[39m plt\u001b[39m.\u001b[39msubplots(\u001b[39m1\u001b[39m, k, figsize\u001b[39m=\u001b[39m(\u001b[39m10\u001b[39m, \u001b[39m2\u001b[39m))\n\u001b[0;32m     35\u001b[0m \u001b[39mfor\u001b[39;00m i \u001b[39min\u001b[39;00m \u001b[39mrange\u001b[39m(k):\n",
      "Cell \u001b[1;32mIn[11], line 22\u001b[0m, in \u001b[0;36mlloyd_kmeans\u001b[1;34m(data, k, max_iters, tol)\u001b[0m\n\u001b[0;32m     19\u001b[0m     \u001b[39mif\u001b[39;00m \u001b[39mlen\u001b[39m(points) \u001b[39m>\u001b[39m \u001b[39m0\u001b[39m:\n\u001b[0;32m     20\u001b[0m         means[j] \u001b[39m=\u001b[39m points\u001b[39m.\u001b[39mmean(axis\u001b[39m=\u001b[39m\u001b[39m0\u001b[39m)\n\u001b[1;32m---> 22\u001b[0m dist_change \u001b[39m=\u001b[39m np\u001b[39m.\u001b[39msqrt(((means\u001b[39m.\u001b[39;49mT \u001b[39m-\u001b[39;49m data)\u001b[39m*\u001b[39m\u001b[39m*\u001b[39m\u001b[39m2\u001b[39m)\u001b[39m.\u001b[39msum(axis\u001b[39m=\u001b[39m\u001b[39m1\u001b[39m))\u001b[39m.\u001b[39mmax()\n\u001b[0;32m     24\u001b[0m \u001b[39mif\u001b[39;00m dist_change \u001b[39m<\u001b[39m tol:\n\u001b[0;32m     25\u001b[0m     \u001b[39mbreak\u001b[39;00m\n",
      "\u001b[1;31mValueError\u001b[0m: operands could not be broadcast together with shapes (784,5) (60000,784) "
     ]
    }
   ],
   "source": [
    "import random\n",
    "# data is a 28x28x60000 array, where 60000 is the number of images\n",
    "\n",
    "Ks = [5, 10, 20]\n",
    "\n",
    "def lloyd_kmeans(data, k, max_iters=100, tol=1e-6):\n",
    "    n, d = data.shape\n",
    "    means = data[random.sample(range(n), k)]\n",
    "    for i in range(max_iters):\n",
    "        # compute distances from data to means\n",
    "        distances = np.sqrt(((data - means[:, np.newaxis])**2).sum(axis=2))\n",
    "\n",
    "        # assign each data point to nearest mean\n",
    "        assignments = np.argmin(distances, axis=0)\n",
    "\n",
    "        # compute new means as centroids of data points assigned to each mean\n",
    "        for j in range(k):\n",
    "            points = data[assignments == j]\n",
    "            if len(points) > 0:\n",
    "                means[j] = points.mean(axis=0)\n",
    "\n",
    "        dist_change = np.sqrt(((means.T - data)**2).sum(axis=1)).max()\n",
    "\n",
    "        if dist_change < tol:\n",
    "            break\n",
    "    \n",
    "    return assignments, means\n",
    "\n",
    "# clusters = [k_means_clustering(data.reshape(-1, 28*28), k) for k in Ks]\n",
    "# print(clusters[0].shape)\n",
    "k = 5\n",
    "cluster_assignment, cluster_centers = lloyd_kmeans(data.reshape(-1, 28*28), k)\n",
    "\n",
    "fig, axs = plt.subplots(1, k, figsize=(10, 2))\n",
    "for i in range(k):\n",
    "    axs[i].imshow(cluster_centers[i].reshape(28, 28), cmap='gray')\n",
    "    axs[i].axis('off')\n",
    "plt.show()"
   ]
  },
  {
   "attachments": {},
   "cell_type": "markdown",
   "metadata": {},
   "source": [
    "## Q2"
   ]
  },
  {
   "cell_type": "code",
   "execution_count": null,
   "metadata": {},
   "outputs": [],
   "source": []
  }
 ],
 "metadata": {
  "kernelspec": {
   "display_name": "cs181",
   "language": "python",
   "name": "python3"
  },
  "language_info": {
   "codemirror_mode": {
    "name": "ipython",
    "version": 3
   },
   "file_extension": ".py",
   "mimetype": "text/x-python",
   "name": "python",
   "nbconvert_exporter": "python",
   "pygments_lexer": "ipython3",
   "version": "3.9.16"
  },
  "orig_nbformat": 4
 },
 "nbformat": 4,
 "nbformat_minor": 2
}
