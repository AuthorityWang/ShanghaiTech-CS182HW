{
 "cells": [
  {
   "attachments": {},
   "cell_type": "markdown",
   "metadata": {},
   "source": [
    "# Homework 1: Model Selection and Linear Regression"
   ]
  },
  {
   "attachments": {},
   "cell_type": "markdown",
   "metadata": {},
   "source": [
    "# Part 1: Model Selection"
   ]
  },
  {
   "attachments": {},
   "cell_type": "markdown",
   "metadata": {},
   "source": [
    "## Import Libraries"
   ]
  },
  {
   "cell_type": "code",
   "execution_count": 209,
   "metadata": {},
   "outputs": [],
   "source": [
    "from time import time\n",
    "import matplotlib.pyplot as plt\n",
    "import numpy as np\n",
    "import sys\n",
    "from scipy import io\n",
    "from sklearn import svm\n",
    "%matplotlib inline\n",
    "\n",
    "EMAIL_CROSSVAL_K = 6\n",
    "email_training_file = \"dataset/spam_data.mat\""
   ]
  },
  {
   "attachments": {},
   "cell_type": "markdown",
   "metadata": {},
   "source": [
    "## Question 0: Fill in the blank with code to select a good model [10pts]\n",
    "In this warmup part, you should write several lines of code to find the best C for classifying spam email data.\n",
    "\n",
    "Grading policy:\n",
    "- Q0.1 [1pts]\n",
    "- Q0.2 [1pts]\n",
    "- Q0.3 [3pts]\n",
    "- Q0.4 [5pts]"
   ]
  },
  {
   "cell_type": "code",
   "execution_count": 210,
   "metadata": {},
   "outputs": [],
   "source": [
    "def timer(func):\n",
    "    def func_wrapper():\n",
    "        start_time = time()\n",
    "        print(\"Start processing...\")\n",
    "        sys.stdout.flush()\n",
    "        retval = func()\n",
    "        print(\"Done!\")\n",
    "        print(\"Time taken: {} seconds\".format(time() - start_time))\n",
    "        sys.stdout.flush()\n",
    "        return retval\n",
    "    return func_wrapper"
   ]
  },
  {
   "cell_type": "code",
   "execution_count": 211,
   "metadata": {},
   "outputs": [],
   "source": [
    "def cross_validate(training_data, training_labels, c_value, cross_validation_indices, CROSSVAL_K):\n",
    "  print(\"Runing cross validation for C value of: {}\".format(c_value))\n",
    "  cross_validation_data = np.array(np.split(training_data[cross_validation_indices], CROSSVAL_K))\n",
    "  cross_validation_labels = np.array(np.split(training_labels[cross_validation_indices], CROSSVAL_K))\n",
    "  cross_validation_accuracy = 0.0\n",
    "  for i in range(CROSSVAL_K):\n",
    "    mask = np.ones(CROSSVAL_K, dtype=bool)\n",
    "    mask[i] = 0\n",
    "    test_set = np.concatenate(cross_validation_data[mask])\n",
    "    ### Q0.1\n",
    "    ### YOUR CODE HERE - Get test labels\n",
    "    test_labels = np.concatenate(cross_validation_labels[mask])\n",
    "    ### END YOUR CODE\n",
    "\n",
    "    validation_set = cross_validation_data[i]\n",
    "    ### Q0.2\n",
    "    ### YOUR CODE HERE - Get validation labels\n",
    "    validation_labels = cross_validation_labels[i]\n",
    "    ### END YOUR CODE\n",
    "\n",
    "    linear_svm = svm.LinearSVC(C=c_value)\n",
    "    linear_svm.fit(test_set, test_labels)\n",
    "    validation_prediction = linear_svm.predict(validation_set)\n",
    "\n",
    "    ### Q0.3\n",
    "    ### YOUR CODE HERE - Accumulate cross validation accuracy\n",
    "    cross_validation_accuracy += np.sum(validation_prediction == validation_labels)\n",
    "    ### END YOUR CODE\n",
    "  cross_validation_accuracy /= CROSSVAL_K\n",
    "  return cross_validation_accuracy"
   ]
  },
  {
   "attachments": {},
   "cell_type": "markdown",
   "metadata": {},
   "source": [
    "## Perparing Data "
   ]
  },
  {
   "cell_type": "code",
   "execution_count": 212,
   "metadata": {},
   "outputs": [
    {
     "name": "stdout",
     "output_type": "stream",
     "text": [
      "Start processing...\n",
      "Done!\n",
      "Time taken: 0.015114784240722656 seconds\n"
     ]
    }
   ],
   "source": [
    "@timer\n",
    "def init_email():\n",
    "    global email_train_features, email_train_labels, email_test_data\n",
    "    # Read and normalize email data\n",
    "    email_data = io.loadmat(email_training_file)\n",
    "    email_train_features = email_data['training_data']\n",
    "    email_train_labels = np.ravel(np.rollaxis(email_data['training_labels'], 1, 0))\n",
    "    email_test_data = email_data['test_data']\n",
    "init_email()"
   ]
  },
  {
   "cell_type": "code",
   "execution_count": 213,
   "metadata": {},
   "outputs": [
    {
     "name": "stdout",
     "output_type": "stream",
     "text": [
      "Start processing...\n",
      "Runing cross validation for C value of: 1e-05\n",
      "C value: 1e-05, Cross validation accuracy: 679.5\n",
      "Runing cross validation for C value of: 0.0001\n"
     ]
    },
    {
     "name": "stderr",
     "output_type": "stream",
     "text": [
      "c:\\Users\\1\\.conda\\envs\\ml\\lib\\site-packages\\sklearn\\svm\\_base.py:1244: ConvergenceWarning: Liblinear failed to converge, increase the number of iterations.\n",
      "  warnings.warn(\n",
      "c:\\Users\\1\\.conda\\envs\\ml\\lib\\site-packages\\sklearn\\svm\\_base.py:1244: ConvergenceWarning: Liblinear failed to converge, increase the number of iterations.\n",
      "  warnings.warn(\n",
      "c:\\Users\\1\\.conda\\envs\\ml\\lib\\site-packages\\sklearn\\svm\\_base.py:1244: ConvergenceWarning: Liblinear failed to converge, increase the number of iterations.\n",
      "  warnings.warn(\n",
      "c:\\Users\\1\\.conda\\envs\\ml\\lib\\site-packages\\sklearn\\svm\\_base.py:1244: ConvergenceWarning: Liblinear failed to converge, increase the number of iterations.\n",
      "  warnings.warn(\n",
      "c:\\Users\\1\\.conda\\envs\\ml\\lib\\site-packages\\sklearn\\svm\\_base.py:1244: ConvergenceWarning: Liblinear failed to converge, increase the number of iterations.\n",
      "  warnings.warn(\n",
      "c:\\Users\\1\\.conda\\envs\\ml\\lib\\site-packages\\sklearn\\svm\\_base.py:1244: ConvergenceWarning: Liblinear failed to converge, increase the number of iterations.\n",
      "  warnings.warn(\n"
     ]
    },
    {
     "name": "stdout",
     "output_type": "stream",
     "text": [
      "C value: 0.0001, Cross validation accuracy: 733.8333333333334\n",
      "Runing cross validation for C value of: 0.001\n"
     ]
    },
    {
     "name": "stderr",
     "output_type": "stream",
     "text": [
      "c:\\Users\\1\\.conda\\envs\\ml\\lib\\site-packages\\sklearn\\svm\\_base.py:1244: ConvergenceWarning: Liblinear failed to converge, increase the number of iterations.\n",
      "  warnings.warn(\n",
      "c:\\Users\\1\\.conda\\envs\\ml\\lib\\site-packages\\sklearn\\svm\\_base.py:1244: ConvergenceWarning: Liblinear failed to converge, increase the number of iterations.\n",
      "  warnings.warn(\n",
      "c:\\Users\\1\\.conda\\envs\\ml\\lib\\site-packages\\sklearn\\svm\\_base.py:1244: ConvergenceWarning: Liblinear failed to converge, increase the number of iterations.\n",
      "  warnings.warn(\n",
      "c:\\Users\\1\\.conda\\envs\\ml\\lib\\site-packages\\sklearn\\svm\\_base.py:1244: ConvergenceWarning: Liblinear failed to converge, increase the number of iterations.\n",
      "  warnings.warn(\n",
      "c:\\Users\\1\\.conda\\envs\\ml\\lib\\site-packages\\sklearn\\svm\\_base.py:1244: ConvergenceWarning: Liblinear failed to converge, increase the number of iterations.\n",
      "  warnings.warn(\n",
      "c:\\Users\\1\\.conda\\envs\\ml\\lib\\site-packages\\sklearn\\svm\\_base.py:1244: ConvergenceWarning: Liblinear failed to converge, increase the number of iterations.\n",
      "  warnings.warn(\n"
     ]
    },
    {
     "name": "stdout",
     "output_type": "stream",
     "text": [
      "C value: 0.001, Cross validation accuracy: 789.3333333333334\n",
      "Runing cross validation for C value of: 0.01\n"
     ]
    },
    {
     "name": "stderr",
     "output_type": "stream",
     "text": [
      "c:\\Users\\1\\.conda\\envs\\ml\\lib\\site-packages\\sklearn\\svm\\_base.py:1244: ConvergenceWarning: Liblinear failed to converge, increase the number of iterations.\n",
      "  warnings.warn(\n",
      "c:\\Users\\1\\.conda\\envs\\ml\\lib\\site-packages\\sklearn\\svm\\_base.py:1244: ConvergenceWarning: Liblinear failed to converge, increase the number of iterations.\n",
      "  warnings.warn(\n",
      "c:\\Users\\1\\.conda\\envs\\ml\\lib\\site-packages\\sklearn\\svm\\_base.py:1244: ConvergenceWarning: Liblinear failed to converge, increase the number of iterations.\n",
      "  warnings.warn(\n",
      "c:\\Users\\1\\.conda\\envs\\ml\\lib\\site-packages\\sklearn\\svm\\_base.py:1244: ConvergenceWarning: Liblinear failed to converge, increase the number of iterations.\n",
      "  warnings.warn(\n",
      "c:\\Users\\1\\.conda\\envs\\ml\\lib\\site-packages\\sklearn\\svm\\_base.py:1244: ConvergenceWarning: Liblinear failed to converge, increase the number of iterations.\n",
      "  warnings.warn(\n",
      "c:\\Users\\1\\.conda\\envs\\ml\\lib\\site-packages\\sklearn\\svm\\_base.py:1244: ConvergenceWarning: Liblinear failed to converge, increase the number of iterations.\n",
      "  warnings.warn(\n",
      "c:\\Users\\1\\.conda\\envs\\ml\\lib\\site-packages\\sklearn\\svm\\_base.py:1244: ConvergenceWarning: Liblinear failed to converge, increase the number of iterations.\n",
      "  warnings.warn(\n"
     ]
    },
    {
     "name": "stdout",
     "output_type": "stream",
     "text": [
      "C value: 0.01, Cross validation accuracy: 813.3333333333334\n",
      "Runing cross validation for C value of: 0.1\n"
     ]
    },
    {
     "name": "stderr",
     "output_type": "stream",
     "text": [
      "c:\\Users\\1\\.conda\\envs\\ml\\lib\\site-packages\\sklearn\\svm\\_base.py:1244: ConvergenceWarning: Liblinear failed to converge, increase the number of iterations.\n",
      "  warnings.warn(\n",
      "c:\\Users\\1\\.conda\\envs\\ml\\lib\\site-packages\\sklearn\\svm\\_base.py:1244: ConvergenceWarning: Liblinear failed to converge, increase the number of iterations.\n",
      "  warnings.warn(\n",
      "c:\\Users\\1\\.conda\\envs\\ml\\lib\\site-packages\\sklearn\\svm\\_base.py:1244: ConvergenceWarning: Liblinear failed to converge, increase the number of iterations.\n",
      "  warnings.warn(\n",
      "c:\\Users\\1\\.conda\\envs\\ml\\lib\\site-packages\\sklearn\\svm\\_base.py:1244: ConvergenceWarning: Liblinear failed to converge, increase the number of iterations.\n",
      "  warnings.warn(\n"
     ]
    },
    {
     "name": "stdout",
     "output_type": "stream",
     "text": [
      "C value: 0.1, Cross validation accuracy: 819.3333333333334\n",
      "Runing cross validation for C value of: 1.0\n"
     ]
    },
    {
     "name": "stderr",
     "output_type": "stream",
     "text": [
      "c:\\Users\\1\\.conda\\envs\\ml\\lib\\site-packages\\sklearn\\svm\\_base.py:1244: ConvergenceWarning: Liblinear failed to converge, increase the number of iterations.\n",
      "  warnings.warn(\n",
      "c:\\Users\\1\\.conda\\envs\\ml\\lib\\site-packages\\sklearn\\svm\\_base.py:1244: ConvergenceWarning: Liblinear failed to converge, increase the number of iterations.\n",
      "  warnings.warn(\n",
      "c:\\Users\\1\\.conda\\envs\\ml\\lib\\site-packages\\sklearn\\svm\\_base.py:1244: ConvergenceWarning: Liblinear failed to converge, increase the number of iterations.\n",
      "  warnings.warn(\n",
      "c:\\Users\\1\\.conda\\envs\\ml\\lib\\site-packages\\sklearn\\svm\\_base.py:1244: ConvergenceWarning: Liblinear failed to converge, increase the number of iterations.\n",
      "  warnings.warn(\n",
      "c:\\Users\\1\\.conda\\envs\\ml\\lib\\site-packages\\sklearn\\svm\\_base.py:1244: ConvergenceWarning: Liblinear failed to converge, increase the number of iterations.\n",
      "  warnings.warn(\n",
      "c:\\Users\\1\\.conda\\envs\\ml\\lib\\site-packages\\sklearn\\svm\\_base.py:1244: ConvergenceWarning: Liblinear failed to converge, increase the number of iterations.\n",
      "  warnings.warn(\n",
      "c:\\Users\\1\\.conda\\envs\\ml\\lib\\site-packages\\sklearn\\svm\\_base.py:1244: ConvergenceWarning: Liblinear failed to converge, increase the number of iterations.\n",
      "  warnings.warn(\n"
     ]
    },
    {
     "name": "stdout",
     "output_type": "stream",
     "text": [
      "C value: 1.0, Cross validation accuracy: 822.8333333333334\n",
      "Runing cross validation for C value of: 10.0\n"
     ]
    },
    {
     "name": "stderr",
     "output_type": "stream",
     "text": [
      "c:\\Users\\1\\.conda\\envs\\ml\\lib\\site-packages\\sklearn\\svm\\_base.py:1244: ConvergenceWarning: Liblinear failed to converge, increase the number of iterations.\n",
      "  warnings.warn(\n",
      "c:\\Users\\1\\.conda\\envs\\ml\\lib\\site-packages\\sklearn\\svm\\_base.py:1244: ConvergenceWarning: Liblinear failed to converge, increase the number of iterations.\n",
      "  warnings.warn(\n",
      "c:\\Users\\1\\.conda\\envs\\ml\\lib\\site-packages\\sklearn\\svm\\_base.py:1244: ConvergenceWarning: Liblinear failed to converge, increase the number of iterations.\n",
      "  warnings.warn(\n",
      "c:\\Users\\1\\.conda\\envs\\ml\\lib\\site-packages\\sklearn\\svm\\_base.py:1244: ConvergenceWarning: Liblinear failed to converge, increase the number of iterations.\n",
      "  warnings.warn(\n",
      "c:\\Users\\1\\.conda\\envs\\ml\\lib\\site-packages\\sklearn\\svm\\_base.py:1244: ConvergenceWarning: Liblinear failed to converge, increase the number of iterations.\n",
      "  warnings.warn(\n",
      "c:\\Users\\1\\.conda\\envs\\ml\\lib\\site-packages\\sklearn\\svm\\_base.py:1244: ConvergenceWarning: Liblinear failed to converge, increase the number of iterations.\n",
      "  warnings.warn(\n"
     ]
    },
    {
     "name": "stdout",
     "output_type": "stream",
     "text": [
      "C value: 10.0, Cross validation accuracy: 822.5\n",
      "Runing cross validation for C value of: 100.0\n"
     ]
    },
    {
     "name": "stderr",
     "output_type": "stream",
     "text": [
      "c:\\Users\\1\\.conda\\envs\\ml\\lib\\site-packages\\sklearn\\svm\\_base.py:1244: ConvergenceWarning: Liblinear failed to converge, increase the number of iterations.\n",
      "  warnings.warn(\n",
      "c:\\Users\\1\\.conda\\envs\\ml\\lib\\site-packages\\sklearn\\svm\\_base.py:1244: ConvergenceWarning: Liblinear failed to converge, increase the number of iterations.\n",
      "  warnings.warn(\n",
      "c:\\Users\\1\\.conda\\envs\\ml\\lib\\site-packages\\sklearn\\svm\\_base.py:1244: ConvergenceWarning: Liblinear failed to converge, increase the number of iterations.\n",
      "  warnings.warn(\n",
      "c:\\Users\\1\\.conda\\envs\\ml\\lib\\site-packages\\sklearn\\svm\\_base.py:1244: ConvergenceWarning: Liblinear failed to converge, increase the number of iterations.\n",
      "  warnings.warn(\n",
      "c:\\Users\\1\\.conda\\envs\\ml\\lib\\site-packages\\sklearn\\svm\\_base.py:1244: ConvergenceWarning: Liblinear failed to converge, increase the number of iterations.\n",
      "  warnings.warn(\n",
      "c:\\Users\\1\\.conda\\envs\\ml\\lib\\site-packages\\sklearn\\svm\\_base.py:1244: ConvergenceWarning: Liblinear failed to converge, increase the number of iterations.\n",
      "  warnings.warn(\n"
     ]
    },
    {
     "name": "stdout",
     "output_type": "stream",
     "text": [
      "C value: 100.0, Cross validation accuracy: 787.3333333333334\n",
      "Runing cross validation for C value of: 1000.0\n"
     ]
    },
    {
     "name": "stderr",
     "output_type": "stream",
     "text": [
      "c:\\Users\\1\\.conda\\envs\\ml\\lib\\site-packages\\sklearn\\svm\\_base.py:1244: ConvergenceWarning: Liblinear failed to converge, increase the number of iterations.\n",
      "  warnings.warn(\n",
      "c:\\Users\\1\\.conda\\envs\\ml\\lib\\site-packages\\sklearn\\svm\\_base.py:1244: ConvergenceWarning: Liblinear failed to converge, increase the number of iterations.\n",
      "  warnings.warn(\n",
      "c:\\Users\\1\\.conda\\envs\\ml\\lib\\site-packages\\sklearn\\svm\\_base.py:1244: ConvergenceWarning: Liblinear failed to converge, increase the number of iterations.\n",
      "  warnings.warn(\n",
      "c:\\Users\\1\\.conda\\envs\\ml\\lib\\site-packages\\sklearn\\svm\\_base.py:1244: ConvergenceWarning: Liblinear failed to converge, increase the number of iterations.\n",
      "  warnings.warn(\n",
      "c:\\Users\\1\\.conda\\envs\\ml\\lib\\site-packages\\sklearn\\svm\\_base.py:1244: ConvergenceWarning: Liblinear failed to converge, increase the number of iterations.\n",
      "  warnings.warn(\n",
      "c:\\Users\\1\\.conda\\envs\\ml\\lib\\site-packages\\sklearn\\svm\\_base.py:1244: ConvergenceWarning: Liblinear failed to converge, increase the number of iterations.\n",
      "  warnings.warn(\n"
     ]
    },
    {
     "name": "stdout",
     "output_type": "stream",
     "text": [
      "C value: 1000.0, Cross validation accuracy: 776.8333333333334\n",
      "Runing cross validation for C value of: 10000.0\n"
     ]
    },
    {
     "name": "stderr",
     "output_type": "stream",
     "text": [
      "c:\\Users\\1\\.conda\\envs\\ml\\lib\\site-packages\\sklearn\\svm\\_base.py:1244: ConvergenceWarning: Liblinear failed to converge, increase the number of iterations.\n",
      "  warnings.warn(\n",
      "c:\\Users\\1\\.conda\\envs\\ml\\lib\\site-packages\\sklearn\\svm\\_base.py:1244: ConvergenceWarning: Liblinear failed to converge, increase the number of iterations.\n",
      "  warnings.warn(\n",
      "c:\\Users\\1\\.conda\\envs\\ml\\lib\\site-packages\\sklearn\\svm\\_base.py:1244: ConvergenceWarning: Liblinear failed to converge, increase the number of iterations.\n",
      "  warnings.warn(\n",
      "c:\\Users\\1\\.conda\\envs\\ml\\lib\\site-packages\\sklearn\\svm\\_base.py:1244: ConvergenceWarning: Liblinear failed to converge, increase the number of iterations.\n",
      "  warnings.warn(\n",
      "c:\\Users\\1\\.conda\\envs\\ml\\lib\\site-packages\\sklearn\\svm\\_base.py:1244: ConvergenceWarning: Liblinear failed to converge, increase the number of iterations.\n",
      "  warnings.warn(\n",
      "c:\\Users\\1\\.conda\\envs\\ml\\lib\\site-packages\\sklearn\\svm\\_base.py:1244: ConvergenceWarning: Liblinear failed to converge, increase the number of iterations.\n",
      "  warnings.warn(\n"
     ]
    },
    {
     "name": "stdout",
     "output_type": "stream",
     "text": [
      "C value: 10000.0, Cross validation accuracy: 776.1666666666666\n",
      "Runing cross validation for C value of: 100000.0\n"
     ]
    },
    {
     "name": "stderr",
     "output_type": "stream",
     "text": [
      "c:\\Users\\1\\.conda\\envs\\ml\\lib\\site-packages\\sklearn\\svm\\_base.py:1244: ConvergenceWarning: Liblinear failed to converge, increase the number of iterations.\n",
      "  warnings.warn(\n",
      "c:\\Users\\1\\.conda\\envs\\ml\\lib\\site-packages\\sklearn\\svm\\_base.py:1244: ConvergenceWarning: Liblinear failed to converge, increase the number of iterations.\n",
      "  warnings.warn(\n",
      "c:\\Users\\1\\.conda\\envs\\ml\\lib\\site-packages\\sklearn\\svm\\_base.py:1244: ConvergenceWarning: Liblinear failed to converge, increase the number of iterations.\n",
      "  warnings.warn(\n",
      "c:\\Users\\1\\.conda\\envs\\ml\\lib\\site-packages\\sklearn\\svm\\_base.py:1244: ConvergenceWarning: Liblinear failed to converge, increase the number of iterations.\n",
      "  warnings.warn(\n",
      "c:\\Users\\1\\.conda\\envs\\ml\\lib\\site-packages\\sklearn\\svm\\_base.py:1244: ConvergenceWarning: Liblinear failed to converge, increase the number of iterations.\n",
      "  warnings.warn(\n"
     ]
    },
    {
     "name": "stdout",
     "output_type": "stream",
     "text": [
      "C value: 100000.0, Cross validation accuracy: 772.3333333333334\n",
      "Runing cross validation for C value of: 1000000.0\n"
     ]
    },
    {
     "name": "stderr",
     "output_type": "stream",
     "text": [
      "c:\\Users\\1\\.conda\\envs\\ml\\lib\\site-packages\\sklearn\\svm\\_base.py:1244: ConvergenceWarning: Liblinear failed to converge, increase the number of iterations.\n",
      "  warnings.warn(\n",
      "c:\\Users\\1\\.conda\\envs\\ml\\lib\\site-packages\\sklearn\\svm\\_base.py:1244: ConvergenceWarning: Liblinear failed to converge, increase the number of iterations.\n",
      "  warnings.warn(\n",
      "c:\\Users\\1\\.conda\\envs\\ml\\lib\\site-packages\\sklearn\\svm\\_base.py:1244: ConvergenceWarning: Liblinear failed to converge, increase the number of iterations.\n",
      "  warnings.warn(\n",
      "c:\\Users\\1\\.conda\\envs\\ml\\lib\\site-packages\\sklearn\\svm\\_base.py:1244: ConvergenceWarning: Liblinear failed to converge, increase the number of iterations.\n",
      "  warnings.warn(\n",
      "c:\\Users\\1\\.conda\\envs\\ml\\lib\\site-packages\\sklearn\\svm\\_base.py:1244: ConvergenceWarning: Liblinear failed to converge, increase the number of iterations.\n",
      "  warnings.warn(\n",
      "c:\\Users\\1\\.conda\\envs\\ml\\lib\\site-packages\\sklearn\\svm\\_base.py:1244: ConvergenceWarning: Liblinear failed to converge, increase the number of iterations.\n",
      "  warnings.warn(\n"
     ]
    },
    {
     "name": "stdout",
     "output_type": "stream",
     "text": [
      "C value: 1000000.0, Cross validation accuracy: 802.1666666666666\n",
      "Runing cross validation for C value of: 10000000.0\n"
     ]
    },
    {
     "name": "stderr",
     "output_type": "stream",
     "text": [
      "c:\\Users\\1\\.conda\\envs\\ml\\lib\\site-packages\\sklearn\\svm\\_base.py:1244: ConvergenceWarning: Liblinear failed to converge, increase the number of iterations.\n",
      "  warnings.warn(\n",
      "c:\\Users\\1\\.conda\\envs\\ml\\lib\\site-packages\\sklearn\\svm\\_base.py:1244: ConvergenceWarning: Liblinear failed to converge, increase the number of iterations.\n",
      "  warnings.warn(\n",
      "c:\\Users\\1\\.conda\\envs\\ml\\lib\\site-packages\\sklearn\\svm\\_base.py:1244: ConvergenceWarning: Liblinear failed to converge, increase the number of iterations.\n",
      "  warnings.warn(\n",
      "c:\\Users\\1\\.conda\\envs\\ml\\lib\\site-packages\\sklearn\\svm\\_base.py:1244: ConvergenceWarning: Liblinear failed to converge, increase the number of iterations.\n",
      "  warnings.warn(\n",
      "c:\\Users\\1\\.conda\\envs\\ml\\lib\\site-packages\\sklearn\\svm\\_base.py:1244: ConvergenceWarning: Liblinear failed to converge, increase the number of iterations.\n",
      "  warnings.warn(\n",
      "c:\\Users\\1\\.conda\\envs\\ml\\lib\\site-packages\\sklearn\\svm\\_base.py:1244: ConvergenceWarning: Liblinear failed to converge, increase the number of iterations.\n",
      "  warnings.warn(\n"
     ]
    },
    {
     "name": "stdout",
     "output_type": "stream",
     "text": [
      "C value: 10000000.0, Cross validation accuracy: 709.8333333333334\n",
      "Runing cross validation for C value of: 100000000.0\n"
     ]
    },
    {
     "name": "stderr",
     "output_type": "stream",
     "text": [
      "c:\\Users\\1\\.conda\\envs\\ml\\lib\\site-packages\\sklearn\\svm\\_base.py:1244: ConvergenceWarning: Liblinear failed to converge, increase the number of iterations.\n",
      "  warnings.warn(\n",
      "c:\\Users\\1\\.conda\\envs\\ml\\lib\\site-packages\\sklearn\\svm\\_base.py:1244: ConvergenceWarning: Liblinear failed to converge, increase the number of iterations.\n",
      "  warnings.warn(\n",
      "c:\\Users\\1\\.conda\\envs\\ml\\lib\\site-packages\\sklearn\\svm\\_base.py:1244: ConvergenceWarning: Liblinear failed to converge, increase the number of iterations.\n",
      "  warnings.warn(\n",
      "c:\\Users\\1\\.conda\\envs\\ml\\lib\\site-packages\\sklearn\\svm\\_base.py:1244: ConvergenceWarning: Liblinear failed to converge, increase the number of iterations.\n",
      "  warnings.warn(\n",
      "c:\\Users\\1\\.conda\\envs\\ml\\lib\\site-packages\\sklearn\\svm\\_base.py:1244: ConvergenceWarning: Liblinear failed to converge, increase the number of iterations.\n",
      "  warnings.warn(\n",
      "c:\\Users\\1\\.conda\\envs\\ml\\lib\\site-packages\\sklearn\\svm\\_base.py:1244: ConvergenceWarning: Liblinear failed to converge, increase the number of iterations.\n",
      "  warnings.warn(\n"
     ]
    },
    {
     "name": "stdout",
     "output_type": "stream",
     "text": [
      "C value: 100000000.0, Cross validation accuracy: 790.1666666666666\n",
      "Runing cross validation for C value of: 1000000000.0\n"
     ]
    },
    {
     "name": "stderr",
     "output_type": "stream",
     "text": [
      "c:\\Users\\1\\.conda\\envs\\ml\\lib\\site-packages\\sklearn\\svm\\_base.py:1244: ConvergenceWarning: Liblinear failed to converge, increase the number of iterations.\n",
      "  warnings.warn(\n",
      "c:\\Users\\1\\.conda\\envs\\ml\\lib\\site-packages\\sklearn\\svm\\_base.py:1244: ConvergenceWarning: Liblinear failed to converge, increase the number of iterations.\n",
      "  warnings.warn(\n",
      "c:\\Users\\1\\.conda\\envs\\ml\\lib\\site-packages\\sklearn\\svm\\_base.py:1244: ConvergenceWarning: Liblinear failed to converge, increase the number of iterations.\n",
      "  warnings.warn(\n"
     ]
    },
    {
     "name": "stdout",
     "output_type": "stream",
     "text": [
      "C value: 1000000000.0, Cross validation accuracy: 721.3333333333334\n",
      "Best C value: 1.0\n",
      "Done!\n",
      "Time taken: 7.863232851028442 seconds\n"
     ]
    },
    {
     "name": "stderr",
     "output_type": "stream",
     "text": [
      "c:\\Users\\1\\.conda\\envs\\ml\\lib\\site-packages\\sklearn\\svm\\_base.py:1244: ConvergenceWarning: Liblinear failed to converge, increase the number of iterations.\n",
      "  warnings.warn(\n",
      "c:\\Users\\1\\.conda\\envs\\ml\\lib\\site-packages\\sklearn\\svm\\_base.py:1244: ConvergenceWarning: Liblinear failed to converge, increase the number of iterations.\n",
      "  warnings.warn(\n",
      "c:\\Users\\1\\.conda\\envs\\ml\\lib\\site-packages\\sklearn\\svm\\_base.py:1244: ConvergenceWarning: Liblinear failed to converge, increase the number of iterations.\n",
      "  warnings.warn(\n"
     ]
    }
   ],
   "source": [
    "@timer\n",
    "def cross_validation_email():\n",
    "    max_accuracy, best_c_value = 0.0, 0.0\n",
    "    c_values = np.array([10**i for i in range(-5, 10)])\n",
    "    cross_validation_indices = np.arange(0, 5172)\n",
    "    np.random.shuffle(cross_validation_indices)\n",
    "    \n",
    "    ### Q0.4\n",
    "    ### YOUR CODE HERE - Write a for loop to find the best C_value AND Print all 'c_value' with the 'cross_validation_accuracy' corresponding to it\n",
    "    for c_value in c_values:\n",
    "        cross_validation_accuracy = cross_validate(email_train_features, email_train_labels, c_value, cross_validation_indices, EMAIL_CROSSVAL_K)\n",
    "        print(\"C value: {}, Cross validation accuracy: {}\".format(c_value, cross_validation_accuracy))\n",
    "        if cross_validation_accuracy > max_accuracy:\n",
    "            max_accuracy = cross_validation_accuracy\n",
    "            best_c_value = c_value\n",
    "    print(\"Best C value: {}\".format(best_c_value))\n",
    "    ### END YOUR CODE\n",
    "\n",
    "    return best_c_value\n",
    "best_email_c_value = cross_validation_email()"
   ]
  },
  {
   "attachments": {},
   "cell_type": "markdown",
   "metadata": {},
   "source": [
    "## Write down the best C value"
   ]
  },
  {
   "attachments": {},
   "cell_type": "markdown",
   "metadata": {},
   "source": [
    "### Your conclusion here\n",
    "My best C value is 1.0"
   ]
  },
  {
   "attachments": {},
   "cell_type": "markdown",
   "metadata": {},
   "source": [
    "# Part 2: Linear Regression"
   ]
  },
  {
   "attachments": {},
   "cell_type": "markdown",
   "metadata": {},
   "source": [
    "In this part, we will start with utilizing Sci-Kit learn to implement a linear regression model. Afterwards, we will be dropping Sci-Kit learning and implementing these algorithms from scratch without the use of machine learning libraries. While you would likely never have to implement your own linear regression algorithm from scratch in practice, such a skill is valuable to have as you progress further into the field and find many scenarios where you actually may need to perform such implementations manually. Additionally, implementing algorithms from scratch will help you better understand the underlying mathematics behind each model.     "
   ]
  },
  {
   "cell_type": "markdown",
   "metadata": {},
   "source": [
    "## Import Libraries"
   ]
  },
  {
   "cell_type": "markdown",
   "metadata": {},
   "source": [
    "We will be using the following libraries for this homework assignment. For the questions requiring manual implementation, the pre-existing implementations from Sci-Kit Learn should *not* be used."
   ]
  },
  {
   "cell_type": "code",
   "execution_count": 7,
   "metadata": {
    "collapsed": true,
    "scrolled": true
   },
   "outputs": [],
   "source": [
    "import numpy as np\n",
    "import pandas as pd\n",
    "import matplotlib.pyplot as plt\n",
    "import operator\n",
    "%matplotlib inline\n",
    "\n",
    "from sklearn.linear_model import LinearRegression\n",
    "from sklearn.preprocessing import PolynomialFeatures\n",
    "from sklearn.metrics import mean_squared_error"
   ]
  },
  {
   "cell_type": "markdown",
   "metadata": {},
   "source": [
    "## Preparing Data"
   ]
  },
  {
   "cell_type": "markdown",
   "metadata": {
    "collapsed": true
   },
   "source": [
    "The file named **dataset1.csv** includes data that was generated from an n-degree polynomial with some gaussian noise. The data has 2 columns - first column is the feature (input) and the second column is its label (output). The first step is to load the data and split them into training, validation, and test sets. A reminder that the purpose of each of the splitted sets are as follows:\n",
    "\n",
    "* **Training Set**: The sample of data used to fit the model\n",
    "* **Validation Set**: The sample of data used to provide an unbiased evaluation of a model fit on the training dataset while tuning model hyperparameters.\n",
    "* **Test Set**: The sample of data used to provide an unbiased evaluation of a final model fit on the training dataset.\n",
    "\n",
    "In the section below, we load the csv file and split the data randomnly into 3 equal sets. \n",
    "\n",
    "*Note that in practice, we usually aim for around a 70-20-10 split for train, valid, and test respectively, but due to limited data in our case, we will do an even split in order to have sufficient data for evaluation* "
   ]
  },
  {
   "cell_type": "code",
   "execution_count": 8,
   "metadata": {
    "collapsed": true,
    "scrolled": false
   },
   "outputs": [],
   "source": [
    "# Load the data and split into 3 equal sets\n",
    "data = pd.read_csv('dataset\\dataset1.csv', header=None)\n",
    "data = data.iloc[:, :-1]\n",
    "train, valid, test = np.split(data, [int(.33*len(data)), int(.66*len(data))])\n",
    "\n",
    "# We sort the data in order for plotting purposes later\n",
    "train.sort_values(by=[0], inplace=True)\n",
    "valid.sort_values(by=[0], inplace=True)\n",
    "test.sort_values(by=[0], inplace=True)"
   ]
  },
  {
   "cell_type": "markdown",
   "metadata": {},
   "source": [
    "Let's take a look at what our data looks like"
   ]
  },
  {
   "cell_type": "code",
   "execution_count": 3,
   "metadata": {},
   "outputs": [
    {
     "data": {
      "image/png": "[encoded data removed]",
      "text/plain": [
       "<Figure size 640x480 with 1 Axes>"
      ]
     },
     "metadata": {},
     "output_type": "display_data"
    }
   ],
   "source": [
    "plt.scatter(train[0], train[1], s=10)\n",
    "plt.show()"
   ]
  },
  {
   "cell_type": "markdown",
   "metadata": {},
   "source": [
    "Let's apply a linear regression model using Sci-Kit learn and see what the results look like."
   ]
  },
  {
   "cell_type": "code",
   "execution_count": 4,
   "metadata": {},
   "outputs": [
    {
     "data": {
      "image/png": "[encoded data removed]",
      "text/plain": [
       "<Figure size 640x480 with 1 Axes>"
      ]
     },
     "metadata": {},
     "output_type": "display_data"
    }
   ],
   "source": [
    "# Reshape arrays since sci-kit learn only takes in 2D arrays\n",
    "train_x = np.array(train[0])\n",
    "train_y = np.array(train[1])\n",
    "valid_x = np.array(valid[0])\n",
    "valid_y = np.array(valid[1])\n",
    "train_x = train_x.reshape(-1, 1)\n",
    "train_y = train_y.reshape(-1, 1)\n",
    "valid_x = valid_x.reshape(-1, 1)\n",
    "valid_y = valid_y.reshape(-1, 1)\n",
    "\n",
    "# Apply linear regression model\n",
    "model = LinearRegression()\n",
    "model.fit(train_x, train_y)\n",
    "y_pred = model.predict(train_x)\n",
    "\n",
    "# Plot the results\n",
    "plt.scatter(train_x, train_y, s=10)\n",
    "plt.plot(train_x, y_pred, color='r')\n",
    "plt.show()"
   ]
  },
  {
   "cell_type": "markdown",
   "metadata": {},
   "source": [
    "By analyzing the line of best fit above, we can see that a straight line is unable to capture the patterns of the data. This is an example of underfitting. As seen in the latest lecture, we can generate a higher order equation by adding powers of the original features as new features. \n",
    "\n",
    "The linear model,: \n",
    "\n",
    "&nbsp;&nbsp;&nbsp;&nbsp;&nbsp;&nbsp; ** $y(x)$ = $w_1 x$ + $w_0$ ** \n",
    "\n",
    "can be transformed to a polynomial model such as:\n",
    "\n",
    "&nbsp;&nbsp;&nbsp;&nbsp;&nbsp;&nbsp; ** $y(x)$ = $w_2 x^2$ + $w_1 x$ + $w_0$ ** \n",
    "\n",
    "Note that this is still considered to be linear model as the coefficients/weights associated with the features are still linear. x<sup>2</sup> is only a feature. However the curve that we would be fitting in this case is quadratic in nature.\n",
    "\n",
    "Below we show an example of a quadratic curve being fit to the data"
   ]
  },
  {
   "cell_type": "code",
   "execution_count": 5,
   "metadata": {},
   "outputs": [
    {
     "data": {
      "image/png": "[encoded data removed]",
      "text/plain": [
       "<Figure size 640x480 with 1 Axes>"
      ]
     },
     "metadata": {},
     "output_type": "display_data"
    }
   ],
   "source": [
    "# Create polynomial features with degree 2\n",
    "polynomial_features = PolynomialFeatures(degree=2)\n",
    "x_poly = polynomial_features.fit_transform(train_x)\n",
    "\n",
    "# Apply linear regression\n",
    "model = LinearRegression()\n",
    "model.fit(x_poly, train_y)\n",
    "y_poly_pred = model.predict(x_poly)\n",
    "\n",
    "# Plot the results\n",
    "plt.scatter(train_x, train_y, s=10)\n",
    "plt.plot(train_x, y_poly_pred, color='r')\n",
    "plt.show()"
   ]
  },
  {
   "cell_type": "markdown",
   "metadata": {},
   "source": [
    "As you can see, we get a slightly better fit with a quadratic curve. Let's use the model to make predictions on our validation set and compute the mean squared error, which is the error which we wish to minimize."
   ]
  },
  {
   "cell_type": "code",
   "execution_count": 6,
   "metadata": {},
   "outputs": [
    {
     "name": "stdout",
     "output_type": "stream",
     "text": [
      "Mean Squared Error: 20.485214511024232\n"
     ]
    },
    {
     "data": {
      "image/png": "[encoded data removed]",
      "text/plain": [
       "<Figure size 640x480 with 1 Axes>"
      ]
     },
     "metadata": {},
     "output_type": "display_data"
    }
   ],
   "source": [
    "# Make predictions using pretrained model\n",
    "valid_y_poly_pred = model.predict(polynomial_features.fit_transform(valid_x))\n",
    "\n",
    "# Calculate mean squared error\n",
    "mse = mean_squared_error(valid_y, valid_y_poly_pred)\n",
    "print(\"Mean Squared Error: {}\".format(mse))\n",
    "\n",
    "# Plot the prediction results\n",
    "plt.scatter(valid_x, valid_y, s=10)\n",
    "plt.plot(valid_x, valid_y_poly_pred, color='r')\n",
    "plt.show()"
   ]
  },
  {
   "cell_type": "markdown",
   "metadata": {},
   "source": [
    "## Question 1: Polynomial Regression Using Sci-Kit Learn [20pts]\n",
    "\n",
    "Now it is your turn! Following the same format as above, implement a 10-degree polynomial regression model on the training data and plot your results. Use your model to predict the output of the validation set and calculate the mean square error. Report and plot the results. \n",
    "\n",
    "Grading policy:\n",
    "\n",
    "- Q1.1 [8pts]\n",
    "    - Fit a 10-degree polynomial using Sci-Kit Learn [2pts]\n",
    "    - Plot your the curve on the training data set [1pt]\n",
    "    - Use model to predict output of validation set [2pts]\n",
    "    - Calculate and report the MSE [2pt]\n",
    "    - Plot the curve on the validation set [1pt]\n",
    "- Q1.2 [2pts]\n",
    "- Q1.3 [8pts]\n",
    "    - Fit a 20-degree polynomial using Sci-Kit Learn[2pts]\n",
    "    - Plot your the curve on the training data set [1pt]\n",
    "    - Use model to predict output of validation set [2pts]\n",
    "    - Calculate and report the MSE [2pts]\n",
    "    - Plot the curve on the validation set [1pt]\n",
    "- Q1.4 [2pts]"
   ]
  },
  {
   "cell_type": "markdown",
   "metadata": {},
   "source": [
    "## Q1.1"
   ]
  },
  {
   "cell_type": "code",
   "execution_count": 10,
   "metadata": {
    "collapsed": true
   },
   "outputs": [
    {
     "data": {
      "image/png": "[encoded data removed]",
      "text/plain": [
       "<Figure size 640x480 with 1 Axes>"
      ]
     },
     "metadata": {},
     "output_type": "display_data"
    },
    {
     "name": "stdout",
     "output_type": "stream",
     "text": [
      "Mean Squared Error: 13.11519077826372\n"
     ]
    },
    {
     "data": {
      "image/png": "[encoded data removed]",
      "text/plain": [
       "<Figure size 640x480 with 1 Axes>"
      ]
     },
     "metadata": {},
     "output_type": "display_data"
    }
   ],
   "source": [
    "### YOUR CODE HERE - Fit a 10-degree polynomial using Sci-Kit Learn\n",
    "polynomial_features = PolynomialFeatures(degree=10)\n",
    "x_poly = polynomial_features.fit_transform(train_x)\n",
    "model = LinearRegression()\n",
    "model.fit(x_poly, train_y)\n",
    "y_poly_pred = model.predict(x_poly)\n",
    "### YOUR CODE HERE - Plot your the curve on the training data set\n",
    "plt.scatter(train_x, train_y, s=10)\n",
    "plt.plot(train_x, y_poly_pred, color='r')\n",
    "plt.show()\n",
    "### YOUR CODE HERE - Use model to predict output of validation set\n",
    "valid_y_poly_pred = model.predict(polynomial_features.fit_transform(valid_x))\n",
    "### YOUR CODE HERE - Calculate the MSE. Report and plot the curve on the validation set.\n",
    "mse = mean_squared_error(valid_y, valid_y_poly_pred)\n",
    "print(\"Mean Squared Error: {}\".format(mse))\n",
    "plt.scatter(valid_x, valid_y, s=10)\n",
    "plt.plot(valid_x, valid_y_poly_pred, color='r')\n",
    "plt.show()"
   ]
  },
  {
   "cell_type": "markdown",
   "metadata": {},
   "source": [
    "## Q1.2"
   ]
  },
  {
   "attachments": {},
   "cell_type": "markdown",
   "metadata": {},
   "source": [
    "#### Did the mean squared error go up or down as compared to the 2-degree polynomial curve? Why do you think this is the case?\n",
    "\n",
    "The MSE go down compared to the 2-degree polynomial curve. Because as degree grow up, the degree of freedom will grow bigger, then will better fit the data so will get a lower result. "
   ]
  },
  {
   "cell_type": "markdown",
   "metadata": {},
   "source": [
    "Now repeat the above for a 20-degree polynomial regression model."
   ]
  },
  {
   "cell_type": "markdown",
   "metadata": {},
   "source": [
    "## Q1.3"
   ]
  },
  {
   "cell_type": "code",
   "execution_count": 11,
   "metadata": {
    "collapsed": true
   },
   "outputs": [
    {
     "data": {
      "image/png": "[encoded data removed]",
      "text/plain": [
       "<Figure size 640x480 with 1 Axes>"
      ]
     },
     "metadata": {},
     "output_type": "display_data"
    },
    {
     "name": "stdout",
     "output_type": "stream",
     "text": [
      "Mean Squared Error: 106.08567975954583\n"
     ]
    },
    {
     "data": {
      "image/png": "[encoded data removed]",
      "text/plain": [
       "<Figure size 640x480 with 1 Axes>"
      ]
     },
     "metadata": {},
     "output_type": "display_data"
    }
   ],
   "source": [
    "### YOUR CODE HERE - Fit a 20-degree polynomial using Sci-Kit Learn\n",
    "polynomial_features = PolynomialFeatures(degree=20)\n",
    "x_poly = polynomial_features.fit_transform(train_x)\n",
    "model = LinearRegression()\n",
    "model.fit(x_poly, train_y)\n",
    "y_poly_pred = model.predict(x_poly)\n",
    "### YOUR CODE HERE - Plot your the curve on the training data set\n",
    "plt.scatter(train_x, train_y, s=10)\n",
    "plt.plot(train_x, y_poly_pred, color='r')\n",
    "plt.show()\n",
    "### YOUR CODE HERE - Use model to predict output of validation set\n",
    "valid_y_poly_pred = model.predict(polynomial_features.fit_transform(valid_x))\n",
    "### YOUR CODE HERE - Calculate the RMSE. Report and plot the curve on the validation set.\n",
    "mse = mean_squared_error(valid_y, valid_y_poly_pred)\n",
    "print(\"Mean Squared Error: {}\".format(mse))\n",
    "plt.scatter(valid_x, valid_y, s=10)\n",
    "plt.plot(valid_x, valid_y_poly_pred, color='r')\n",
    "plt.show()"
   ]
  },
  {
   "cell_type": "markdown",
   "metadata": {},
   "source": [
    "## Q1.4"
   ]
  },
  {
   "attachments": {},
   "cell_type": "markdown",
   "metadata": {},
   "source": [
    "#### How does the mean square error compare to the previous two models? Why do you think this is the case?\n",
    "\n",
    "Though the grow of degree will low the MSE, when the degree grows too much, a small noise will be extremely enlarge, which in turn result great bias. "
   ]
  },
  {
   "cell_type": "markdown",
   "metadata": {},
   "source": [
    "## Question 2: Manual Implementation [50pts]"
   ]
  },
  {
   "cell_type": "markdown",
   "metadata": {},
   "source": [
    "Now it's time to appreciate the hard work that open source developers have put, in order to allow you to implemenent machine learning models without doing any math! No more Sci-Kit learn (or any other libraries like Tensorflow, Pytorch, etc) for the rest of this assignment!"
   ]
  },
  {
   "cell_type": "markdown",
   "metadata": {},
   "source": [
    "Your first step is to fit a **10-degree polynomial** to the dataset we have been using above. Then using your results, calculate the mean squared error on both the training and validation set. You may use general utility libraries like numpy and pandas matrix computations and data manipulation, but pre-existing implementations of the model itself is prohibited.\n",
    "\n",
    "A reminder that in polynomial regression, we are looking for a solution for the equation:\n",
    "\n",
    "&nbsp;&nbsp;&nbsp;&nbsp;&nbsp;&nbsp; ** $Y(X)$ = $W^T$ * $\\phi(X)$ ** \n",
    "\n",
    "where\n",
    "\n",
    "&nbsp;&nbsp;&nbsp;&nbsp;&nbsp;&nbsp; ** $\\phi(X)$ = [ $1$, $X$, $X^2$, $X^3$, ..... $X^n$ ] **\n",
    " \n",
    "and the ordinary least square solution in closed form is:\n",
    "\n",
    "&nbsp;&nbsp;&nbsp;&nbsp;&nbsp;&nbsp;** $W$ = $(X^T X)^{-1}X^TY$ **\n",
    "\n",
    "Make sure to review the slides, do some research, and/or ask for clarification if this doesn't make sense. You must understand the underlying math before being able to implement this properly.\n",
    "\n",
    "*Suggestion - Use the original pandas dataframes variables named train, valid, and test instead of the reshaped arrays that were used specifically for Sci-Kit Learn. It will make your computations cleaner and more inuitive.*\n",
    "\n",
    "Grading policy:\n",
    "- Q2.1 [15pts]\n",
    "    - Create the polynomial matrix ϕ(X) [2pts]\n",
    "    - Find the weighted matrix W [5pts]\n",
    "    - Make predictions on the training set, calculate and report the mean squared error [2pts]\n",
    "    - Plot the above results [2pts]\n",
    "    - Make predictions on the validation set, calculate and report the mean squared error [2pts]\n",
    "    - Plot the above results [2pts]\n",
    "- Q2.2 [3pts]\n",
    "    - Load dataset2.csv and split into 3 equal sets [2pts]\n",
    "    - Sort the data in order for plotting purposes later [1pt]\n",
    "- Q2.3 [2pts]\n",
    "- Q2.4 [30pts]\n",
    "    - Implement gradient decent [25pts]\n",
    "        - Correctness of the gradient [10pts]\n",
    "        - Correctness of the update in each iteration [10pts]\n",
    "        - Convergence of the algorithm [5pts]\n",
    "    - Calculate and report the mean squared error on both training and validation set [3pts]\n",
    "    - Plot the above results [2pts]"
   ]
  },
  {
   "cell_type": "markdown",
   "metadata": {},
   "source": [
    "## Q2.1"
   ]
  },
  {
   "cell_type": "code",
   "execution_count": 222,
   "metadata": {
    "collapsed": true
   },
   "outputs": [],
   "source": [
    "### YOUR CODE HERE - Create the polynomial matrix ϕ(X)\n",
    "\n",
    "### YOUR CODE HERE - Find the weighted matrix W\n",
    "\n",
    "### YOUR CODE HERE - Make predictions on the training set and calculate the mean squared error. Plot the results.\n",
    "\n",
    "### YOUR CODE HERE - Make predictions on the validation set and calculate the mean squared error. Plot the results."
   ]
  },
  {
   "cell_type": "markdown",
   "metadata": {},
   "source": [
    "For the rest of the assignment, we will use the other dataset named **dataset2.csv**. First load the csv and split the model into train, valid, and test sets as shown earlier in the assignment."
   ]
  },
  {
   "cell_type": "markdown",
   "metadata": {},
   "source": [
    "## Q2.2"
   ]
  },
  {
   "cell_type": "code",
   "execution_count": 223,
   "metadata": {
    "collapsed": true
   },
   "outputs": [],
   "source": [
    "### YOUR CODE HERE - Load dataset2.csv and split into 3 equal sets\n",
    "\n",
    "### YOUR CODE HERE - Sort the data in order for plotting purposes later\n"
   ]
  },
  {
   "cell_type": "markdown",
   "metadata": {},
   "source": [
    "Plot the data below to see what it looks like"
   ]
  },
  {
   "cell_type": "markdown",
   "metadata": {},
   "source": [
    "## Q2.3"
   ]
  },
  {
   "cell_type": "code",
   "execution_count": 224,
   "metadata": {
    "collapsed": true
   },
   "outputs": [],
   "source": [
    "### YOUR CODE HERE - Plot the points for dataset2\n"
   ]
  },
  {
   "cell_type": "markdown",
   "metadata": {},
   "source": [
    "If done properly, you should see that the points fall under a relatively straight line with minor deviations. Looks like a perfect example to implement a linear regression model using the **gradient descent** method ..... without the use of any machine learning libraries!\n",
    "\n",
    "Since the data falls along a straight line, we can assume the solution follows the form:\n",
    "\n",
    "&nbsp;&nbsp;&nbsp;&nbsp;&nbsp;&nbsp; ** $y(x)$ = $m x$ + $b$ **\n",
    "\n",
    "A reminder that in gradient descent, we essentially want to iteratively get closer to the minimum of our objective function (the mean squared error), such that:\n",
    " \n",
    " &nbsp;&nbsp;&nbsp;&nbsp;&nbsp;&nbsp; ** MSE($w_0$) > MSE($w_1$) > MSE($w_2$) > ...**\n",
    "\n",
    "The algorithm is as follows:\n",
    "\n",
    "&nbsp;&nbsp;&nbsp;&nbsp;&nbsp;&nbsp; ** 1) Pick initial $w_0$ randomnly. **\n",
    "\n",
    "&nbsp;&nbsp;&nbsp;&nbsp;&nbsp;&nbsp; ** 2) For $k=1,2..$ $\\Rightarrow$ $w_{k+1}$ = $w_k$ - $\\alpha$  $g(w_k)$  where $\\alpha > 0$ is the learning rate and $g(w_k)$ is the gradient. **\n",
    "\n",
    "&nbsp;&nbsp;&nbsp;&nbsp;&nbsp;&nbsp; ** End when | $w_k$ + $1$ - $w_k$ | < $\\epsilon$ **\n",
    "\n",
    "\n",
    "There are many resources online for gradient descent. You must understand the underlying math before being able to implement this properly.\n",
    "\n",
    "Now once you understand, it is time to implement the gradient descent below. You may set the learning rate to 1e-6 or whatever value you think is best. As usual, calculate the mean squared error and plot your results. This time, training should be done using the training and validation sets, while the final mean squared error should be computed using the testing set."
   ]
  },
  {
   "cell_type": "markdown",
   "metadata": {},
   "source": [
    "## Q2.4"
   ]
  },
  {
   "cell_type": "code",
   "execution_count": 225,
   "metadata": {},
   "outputs": [],
   "source": [
    "### YOUR CODE HERE - Implement gradient decent\n",
    "\n",
    "### YOUR CODE HERE - Calculate the mean squared error on both training and validation set and plot the results."
   ]
  }
 ],
 "metadata": {
  "kernelspec": {
   "display_name": "ml",
   "language": "python",
   "name": "python3"
  },
  "language_info": {
   "codemirror_mode": {
    "name": "ipython",
    "version": 3
   },
   "file_extension": ".py",
   "mimetype": "text/x-python",
   "name": "python",
   "nbconvert_exporter": "python",
   "pygments_lexer": "ipython3",
   "version": "3.9.16"
  },
  "toc": {
   "base_numbering": 1,
   "nav_menu": {},
   "number_sections": false,
   "sideBar": false,
   "skip_h1_title": false,
   "title_cell": "Table of Contents",
   "title_sidebar": "Contents",
   "toc_cell": false,
   "toc_position": {},
   "toc_section_display": false,
   "toc_window_display": false
  },
  "vscode": {
   "interpreter": {
    "hash": "afce4ba17b5757b0751665fe068189bb8136ee183cc24f13fdedfef264cea2cd"
   }
  }
 },
 "nbformat": 4,
 "nbformat_minor": 2
}
