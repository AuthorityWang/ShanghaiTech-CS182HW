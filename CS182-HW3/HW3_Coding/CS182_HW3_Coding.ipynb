{
 "cells": [
  {
   "cell_type": "markdown",
   "id": "c2401ead",
   "metadata": {},
   "source": [
    "# CS182 HW3 Coding [40 points]\n",
    "\n",
    "In this coding homework, you will be required to complete several models for binary classification and try to find the inplicit relationship of them by yourself. \n",
    "\n",
    "**Good luck!**\n"
   ]
  },
  {
   "cell_type": "code",
   "execution_count": 10,
   "id": "d1700370",
   "metadata": {},
   "outputs": [],
   "source": [
    "from sklearn import svm\n",
    "from scipy import special\n",
    "import numpy as np"
   ]
  },
  {
   "cell_type": "code",
   "execution_count": null,
   "id": "ce572b6a",
   "metadata": {},
   "outputs": [],
   "source": [
    "X_train = np.loadtxt('data/X_train.txt')\n",
    "X_val = np.loadtxt('data/X_val.txt')\n",
    "X_test = np.loadtxt('data/X_test.txt')\n",
    "y_train = np.loadtxt('data/y_train.txt')\n",
    "y_val = np.loadtxt('data/y_val.txt')\n",
    "y_test = np.loadtxt('data/y_test.txt')\n",
    "\n",
    "w = np.loadtxt('data/w.txt')\n",
    "w0 = np.loadtxt('data/w0.txt')"
   ]
  },
  {
   "cell_type": "markdown",
   "id": "ce7697c3",
   "metadata": {},
   "source": [
    "## (a) Simple Perceptron"
   ]
  },
  {
   "cell_type": "markdown",
   "id": "21414ceb",
   "metadata": {},
   "source": [
    "(1) Activation functions and loss functions are important parts of each neural network, and there are multiple ways of calculating them. \n",
    "\n",
    " **[3 points]** In this question, we ask you to implement the **sigmoid function** and **binary cross entroy loss function** serving for the binary classification."
   ]
  },
  {
   "cell_type": "code",
   "execution_count": 4,
   "id": "a08486cc",
   "metadata": {},
   "outputs": [],
   "source": [
    "def sigmoid(x):\n",
    "\n",
    "\n",
    "def BCEloss(y_pred, y):\n"
   ]
  },
  {
   "cell_type": "markdown",
   "id": "5b74b28f",
   "metadata": {},
   "source": [
    "(2) **[3 points]** In this question, we ask you to implement the **softmax function** and **cross entroy loss function** serving for the multiple classification."
   ]
  },
  {
   "cell_type": "code",
   "execution_count": 5,
   "id": "fc0c07bb",
   "metadata": {},
   "outputs": [],
   "source": [
    "def softmax(x):\n",
    "\n",
    "\n",
    "def cross_entropy_loss(y,y_pre):\n"
   ]
  },
  {
   "cell_type": "markdown",
   "id": "9629407c",
   "metadata": {},
   "source": [
    "(3) **[10 points]** Learning a simple perceptron with **batch GD** (using the given initializations $w^{init}$ and $w^{init}_{0}$) based on the training set ($X_{train}$, $y_{train}$): use the training set and the validation set to obtain a good learning rate (you can set the maximum for iterations to 50 and try different learning rate in [$10^{−4}$,  $10^{−8}$] ); output the learned model and evaluate its performance on the test set with the classification accuracy."
   ]
  },
  {
   "cell_type": "code",
   "execution_count": null,
   "id": "d0247e38",
   "metadata": {},
   "outputs": [],
   "source": [
    "# BGD Implementation\n"
   ]
  },
  {
   "cell_type": "code",
   "execution_count": null,
   "id": "ab48f97d",
   "metadata": {},
   "outputs": [],
   "source": [
    "# Evaluation with Sigmoid function\n"
   ]
  },
  {
   "cell_type": "markdown",
   "id": "531376fe",
   "metadata": {},
   "source": [
    "(4) **[10 points]** Learning a simple perceptron with **SGD** (using the given initializations $w^{init}$ and $w^{init}_{0}$) based on the training set ($X_{train}$, $y_{train}$): use the training set and the validation set to obtain a good learning rate(you can set the maximum for iterations and try different learning rate); output the learned model and evaluate its performance on the test set with the classification accuracy."
   ]
  },
  {
   "cell_type": "code",
   "execution_count": null,
   "id": "67afd506",
   "metadata": {},
   "outputs": [],
   "source": [
    "# SGD Implementation\n"
   ]
  },
  {
   "cell_type": "code",
   "execution_count": null,
   "id": "6830a8d2",
   "metadata": {},
   "outputs": [],
   "source": [
    "# Evaluation with Sigmoid function\n"
   ]
  },
  {
   "cell_type": "markdown",
   "id": "6e691ce7",
   "metadata": {},
   "source": [
    "## (b) SVM"
   ]
  },
  {
   "cell_type": "markdown",
   "id": "321dd481",
   "metadata": {},
   "source": [
    "(1) **[10 points]** Use the function **‘svm’** in package **‘sklearn’** to do the binary classification. Output the model and evaluate its performance on each dataset with the classification accuracy."
   ]
  },
  {
   "cell_type": "code",
   "execution_count": null,
   "id": "bc84bb78",
   "metadata": {},
   "outputs": [],
   "source": [
    "# SVM Implementation\n"
   ]
  },
  {
   "cell_type": "markdown",
   "id": "0bd914a6",
   "metadata": {},
   "source": [
    "## (c) Compare"
   ]
  },
  {
   "cell_type": "markdown",
   "id": "1f3ae058",
   "metadata": {},
   "source": [
    "(1) **[4 points]** Try to compare  models learned from (a)(3), (a)(4) and (b). Write down your explanation and data support."
   ]
  },
  {
   "cell_type": "code",
   "execution_count": null,
   "id": "b9ebbffd",
   "metadata": {},
   "outputs": [],
   "source": []
  }
 ],
 "metadata": {
  "kernelspec": {
   "display_name": "Python 3 (ipykernel)",
   "language": "python",
   "name": "python3"
  },
  "language_info": {
   "codemirror_mode": {
    "name": "ipython",
    "version": 3
   },
   "file_extension": ".py",
   "mimetype": "text/x-python",
   "name": "python",
   "nbconvert_exporter": "python",
   "pygments_lexer": "ipython3",
   "version": "3.9.12"
  }
 },
 "nbformat": 4,
 "nbformat_minor": 5
}
