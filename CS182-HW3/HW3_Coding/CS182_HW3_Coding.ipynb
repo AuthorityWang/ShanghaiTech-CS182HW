{
 "cells": [
  {
   "cell_type": "markdown",
   "id": "c2401ead",
   "metadata": {},
   "source": [
    "# CS182 HW3 Coding [40 points]\n",
    "\n",
    "In this coding homework, you will be required to complete several models for binary classification and try to find the inplicit relationship of them by yourself. \n",
    "\n",
    "**Good luck!**\n"
   ]
  },
  {
   "cell_type": "code",
   "execution_count": 124,
   "id": "d1700370",
   "metadata": {},
   "outputs": [],
   "source": [
    "from sklearn import svm\n",
    "from scipy import special\n",
    "import numpy as np"
   ]
  },
  {
   "cell_type": "code",
   "execution_count": 125,
   "id": "ce572b6a",
   "metadata": {},
   "outputs": [],
   "source": [
    "X_train = np.loadtxt('data/X_train.txt')\n",
    "X_val = np.loadtxt('data/X_val.txt')\n",
    "X_test = np.loadtxt('data/X_test.txt')\n",
    "y_train = np.loadtxt('data/y_train.txt')\n",
    "y_val = np.loadtxt('data/y_val.txt')\n",
    "y_test = np.loadtxt('data/y_test.txt')\n",
    "\n",
    "w = np.loadtxt('data/w.txt')\n",
    "w0 = np.loadtxt('data/w0.txt')"
   ]
  },
  {
   "cell_type": "markdown",
   "id": "ce7697c3",
   "metadata": {},
   "source": [
    "## (a) Simple Perceptron"
   ]
  },
  {
   "cell_type": "markdown",
   "id": "21414ceb",
   "metadata": {},
   "source": [
    "(1) Activation functions and loss functions are important parts of each neural network, and there are multiple ways of calculating them. \n",
    "\n",
    " **[3 points]** In this question, we ask you to implement the **sigmoid function** and **binary cross entroy loss function** serving for the binary classification."
   ]
  },
  {
   "cell_type": "code",
   "execution_count": 126,
   "id": "a08486cc",
   "metadata": {},
   "outputs": [],
   "source": [
    "def sigmoid(x):\n",
    "    return 1 / (1 + np.exp(-x))\n",
    "\n",
    "def BCEloss(y_pred, y):\n",
    "    return - np.mean(y * np.log(y_pred) + (1 - y) * np.log(1 - y_pred))"
   ]
  },
  {
   "cell_type": "markdown",
   "id": "5b74b28f",
   "metadata": {},
   "source": [
    "(2) **[3 points]** In this question, we ask you to implement the **softmax function** and **cross entroy loss function** serving for the multiple classification."
   ]
  },
  {
   "cell_type": "code",
   "execution_count": 127,
   "id": "fc0c07bb",
   "metadata": {},
   "outputs": [],
   "source": [
    "def softmax(x):\n",
    "    exps = np.exp(x - np.max(x, axis=1, keepdims=True))\n",
    "    return exps / np.sum(exps, axis=1, keepdims=True)\n",
    "\n",
    "def cross_entropy_loss(y, y_pre):\n",
    "    return -np.mean(np.sum(y * np.log(y_pre), axis=1))"
   ]
  },
  {
   "cell_type": "markdown",
   "id": "9629407c",
   "metadata": {},
   "source": [
    "(3) **[10 points]** Learning a simple perceptron with **batch GD** (using the given initializations $w^{init}$ and $w^{init}_{0}$) based on the training set ($X_{train}$, $y_{train}$): use the training set and the validation set to obtain a good learning rate (you can set the maximum for iterations to 50 and try different learning rate in [$10^{−4}$,  $10^{−8}$] ); output the learned model and evaluate its performance on the test set with the classification accuracy."
   ]
  },
  {
   "cell_type": "code",
   "execution_count": 128,
   "id": "d0247e38",
   "metadata": {},
   "outputs": [
    {
     "name": "stdout",
     "output_type": "stream",
     "text": [
      "(7000, 20) (7000, 1) (20, 1) (1, 1) 0.0001 50\n",
      "(7000, 20) (7000, 1) (20, 1) (1, 1) 1e-05 50\n",
      "(7000, 20) (7000, 1) (20, 1) (1, 1) 1e-06 50\n",
      "(7000, 20) (7000, 1) (20, 1) (1, 1) 1e-07 50\n",
      "(7000, 20) (7000, 1) (20, 1) (1, 1) 1e-08 50\n",
      "Best learning rate: 0.0001\n",
      "Best accuracy on train: 0.97\n",
      "Best Model weights:\n",
      " [[-0.12671047]\n",
      " [-0.11962769]\n",
      " [-0.11669877]\n",
      " [-0.12621546]\n",
      " [-0.12178165]\n",
      " [-0.12109535]\n",
      " [-0.12320885]\n",
      " [-0.12065023]\n",
      " [-0.12631277]\n",
      " [-0.11899523]\n",
      " [-0.12389209]\n",
      " [-0.11669966]\n",
      " [-0.12400644]\n",
      " [-0.12341878]\n",
      " [-0.12122757]\n",
      " [-0.12278914]\n",
      " [-0.12500693]\n",
      " [-0.11854638]\n",
      " [-0.12232647]\n",
      " [-0.12065187]]\n",
      "Best Model bias: [[0.]]\n"
     ]
    }
   ],
   "source": [
    "import copy\n",
    "# BGD Implementation\n",
    "max_iter = 50\n",
    "learning_rates = [1e-4, 1e-5, 1e-6, 1e-7, 1e-8]\n",
    "\n",
    "train_BGD_accs = []\n",
    "train_BGD_w = []\n",
    "train_BGD_w0 = []\n",
    "best_BGD_lr = None\n",
    "best_BGD_acc = 0\n",
    "\n",
    "# compute the gradient of the loss function with respect to the weights\n",
    "def BGD_grad(x, y, w, w0):\n",
    "    y_pred = sigmoid(np.dot(x, w) + w0)\n",
    "    grad_w = np.dot(x.T, (y_pred - y)) * (1 / (2 * x.shape[1]))\n",
    "    return grad_w\n",
    "\n",
    "# iterate and update the weights\n",
    "def BatchGD(x, y, w, w0, lr, max_iter):\n",
    "    for i in range(max_iter):\n",
    "        w -= lr * BGD_grad(x, y, w, w0)\n",
    "    return w\n",
    "\n",
    "# predict with the updated weights\n",
    "def BGD_predict(x, w, w0):\n",
    "    y_pred = sigmoid(np.dot(x, w) + w0)\n",
    "    return y_pred\n",
    "\n",
    "# classification to binary\n",
    "def BGD_classify(y_pred):\n",
    "    y_pred_classes = np.round(y_pred)\n",
    "    return y_pred_classes\n",
    "\n",
    "for lr in learning_rates:\n",
    "    w_curr = copy.deepcopy(w).reshape(-1, 1)\n",
    "    w0_curr = copy.deepcopy(w0).reshape(-1, 1)\n",
    "    print(X_train.T.shape, y_train.reshape(-1, 1).shape, w_curr.shape, w0_curr.shape, lr, max_iter)\n",
    "    BatchGD(X_train.T, y_train.reshape(-1, 1), w_curr, w0_curr, lr, max_iter)\n",
    "    # predict on validation set\n",
    "    y_pred = BGD_predict(X_val.T, w_curr, w0_curr)\n",
    "    y_pred_classes = BGD_classify(y_pred.reshape(-1, 1)).reshape(-1)\n",
    "    acc = np.mean(y_pred_classes == y_val)\n",
    "    train_BGD_accs.append(acc)\n",
    "    train_BGD_w.append(w_curr)\n",
    "    train_BGD_w0.append(w0_curr)\n",
    "\n",
    "best_BGD_acc = max(train_BGD_accs)\n",
    "best_BGD_lr = learning_rates[train_BGD_accs.index(best_BGD_acc)]\n",
    "\n",
    "print(\"Best learning rate:\", best_BGD_lr)\n",
    "print(\"Best accuracy on train:\", best_BGD_acc)\n",
    "print(\"Best Model weights:\\n\", train_BGD_w[train_BGD_accs.index(best_BGD_acc)])\n",
    "print(\"Best Model bias:\", train_BGD_w0[train_BGD_accs.index(best_BGD_acc)])\n"
   ]
  },
  {
   "cell_type": "code",
   "execution_count": 129,
   "id": "ab48f97d",
   "metadata": {},
   "outputs": [
    {
     "name": "stdout",
     "output_type": "stream",
     "text": [
      "Accuracy on test: 0.985\n"
     ]
    }
   ],
   "source": [
    "# Evaluation with Sigmoid function\n",
    "# evaluate on test set\n",
    "w_eval = train_BGD_w[train_BGD_accs.index(best_BGD_acc)]\n",
    "w0_eval = train_BGD_w0[train_BGD_accs.index(best_BGD_acc)]\n",
    "y_pred = BGD_predict(X_test.T, w_eval, w0_eval)\n",
    "y_pred_classes = BGD_classify(y_pred.reshape(-1, 1)).reshape(-1)\n",
    "acc = np.mean(y_pred_classes == y_test)\n",
    "print(\"Accuracy on test:\", acc)"
   ]
  },
  {
   "cell_type": "markdown",
   "id": "531376fe",
   "metadata": {},
   "source": [
    "(4) **[10 points]** Learning a simple perceptron with **SGD** (using the given initializations $w^{init}$ and $w^{init}_{0}$) based on the training set ($X_{train}$, $y_{train}$): use the training set and the validation set to obtain a good learning rate(you can set the maximum for iterations and try different learning rate); output the learned model and evaluate its performance on the test set with the classification accuracy."
   ]
  },
  {
   "cell_type": "code",
   "execution_count": 130,
   "id": "67afd506",
   "metadata": {},
   "outputs": [
    {
     "name": "stdout",
     "output_type": "stream",
     "text": [
      "Best learning rate: 0.0001\n",
      "Best accuracy on train: 0.98\n",
      "Best Model weights:\n",
      " [[-0.00058422]\n",
      " [-0.00048122]\n",
      " [-0.00024438]\n",
      " [-0.00047467]\n",
      " [-0.00086215]\n",
      " [-0.0008303 ]\n",
      " [-0.00044239]\n",
      " [-0.00057772]\n",
      " [-0.00103831]\n",
      " [-0.00054353]\n",
      " [-0.00064284]\n",
      " [-0.00045443]\n",
      " [-0.00062141]\n",
      " [-0.00051802]\n",
      " [-0.00048745]\n",
      " [-0.00066961]\n",
      " [-0.00084772]\n",
      " [-0.00050513]\n",
      " [-0.00041982]\n",
      " [-0.00029463]]\n",
      "Best Model bias: [[0.]]\n"
     ]
    }
   ],
   "source": [
    "# SGD Implementation\n",
    "import copy\n",
    "max_iter = 50\n",
    "learning_rates = [1e-4, 1e-5, 1e-6, 1e-7, 1e-8]\n",
    "\n",
    "train_SGD_accs = []\n",
    "train_SGD_w = []\n",
    "train_SGD_w0 = []\n",
    "best_SGD_lr = None\n",
    "best_SGD_acc = 0\n",
    "\n",
    "# compute the gradient of the loss function with respect to the weights\n",
    "def SGD_grad(x, y, w, w0):\n",
    "    y_pred = sigmoid(np.dot(x, w) + w0)\n",
    "    grad_w = np.dot(x.reshape((x.shape[0], 1)) , (y_pred - y)).reshape((x.shape[0], 1)) * 1 / 2\n",
    "    return grad_w\n",
    "\n",
    "# iterate and update the weights\n",
    "def StochasticGD(x, y, w, w0, lr, max_iter):\n",
    "    for i in range(max_iter):\n",
    "        index = np.random.randint(0, y.shape[0])\n",
    "        w -= lr * SGD_grad(x[index], y[index], w, w0)\n",
    "    return w\n",
    "\n",
    "# predict with the updated weights\n",
    "def SGD_predict(x, w, w0):\n",
    "    y_pred = sigmoid(np.dot(x, w) + w0)\n",
    "    return y_pred\n",
    "\n",
    "# classification to binary\n",
    "def SGD_classify(y_pred):\n",
    "    y_pred_classes = np.round(y_pred)\n",
    "    return y_pred_classes\n",
    "\n",
    "for lr in learning_rates:\n",
    "    w_curr = copy.deepcopy(w).reshape(-1, 1)\n",
    "    w0_curr = copy.deepcopy(w0).reshape(-1, 1)\n",
    "    StochasticGD(X_train.T, y_train.reshape(-1, 1), w_curr, w0_curr, lr, max_iter)\n",
    "    # predict on validation set\n",
    "    y_pred = SGD_predict(X_val.T, w_curr, w0_curr)\n",
    "    y_pred_classes = SGD_classify(y_pred.reshape(-1, 1)).reshape(-1)\n",
    "    acc = np.mean(y_pred_classes == y_val)\n",
    "    train_SGD_accs.append(acc)\n",
    "    train_SGD_w.append(w_curr)\n",
    "    train_SGD_w0.append(w0_curr)\n",
    "\n",
    "best_SGD_acc = max(train_SGD_accs)\n",
    "best_SGD_lr = learning_rates[train_SGD_accs.index(best_SGD_acc)]\n",
    "\n",
    "print(\"Best learning rate:\", best_SGD_lr)\n",
    "print(\"Best accuracy on train:\", best_SGD_acc)\n",
    "print(\"Best Model weights:\\n\", train_SGD_w[train_SGD_accs.index(best_SGD_acc)])\n",
    "print(\"Best Model bias:\", train_SGD_w0[train_SGD_accs.index(best_SGD_acc)])"
   ]
  },
  {
   "cell_type": "code",
   "execution_count": 131,
   "id": "6830a8d2",
   "metadata": {},
   "outputs": [
    {
     "name": "stdout",
     "output_type": "stream",
     "text": [
      "Accuracy on test: 0.97\n"
     ]
    }
   ],
   "source": [
    "# Evaluation with Sigmoid function\n",
    "# evaluate on test set\n",
    "w_eval = train_SGD_w[train_SGD_accs.index(best_SGD_acc)]\n",
    "w0_eval = train_SGD_w0[train_SGD_accs.index(best_SGD_acc)]\n",
    "y_pred = SGD_predict(X_test.T, w_eval, w0_eval)\n",
    "y_pred_classes = SGD_classify(y_pred.reshape(-1, 1)).reshape(-1)\n",
    "acc = np.mean(y_pred_classes == y_test)\n",
    "print(\"Accuracy on test:\", acc)"
   ]
  },
  {
   "cell_type": "markdown",
   "id": "6e691ce7",
   "metadata": {},
   "source": [
    "## (b) SVM"
   ]
  },
  {
   "cell_type": "markdown",
   "id": "321dd481",
   "metadata": {},
   "source": [
    "(1) **[10 points]** Use the function **‘svm’** in package **‘sklearn’** to do the binary classification. Output the model and evaluate its performance on each dataset with the classification accuracy."
   ]
  },
  {
   "cell_type": "code",
   "execution_count": 132,
   "id": "bc84bb78",
   "metadata": {},
   "outputs": [
    {
     "name": "stdout",
     "output_type": "stream",
     "text": [
      "Accuracy on train: 0.9864285714285714\n",
      "Accuracy on val: 0.98\n",
      "Accuracy on test: 0.965\n",
      "SVM Model weights:\n",
      " [[ 0.68933533 -0.17852867  0.5360221  ...  1.70763393  0.69389016\n",
      "   2.14809057]\n",
      " [ 0.31145582 -0.19358084 -0.03407853 ... -1.34018377  0.84527418\n",
      "  -0.63497673]\n",
      " [ 0.45213304 -0.08232171 -1.09025721 ...  0.56799859  0.21866164\n",
      "  -0.64653768]\n",
      " ...\n",
      " [ 1.90582843  0.38801337  0.01954115 ... -0.05619099 -0.63951714\n",
      "  -0.99336592]\n",
      " [-0.45400191 -0.98572412  1.63605467 ...  0.67819234 -0.02417593\n",
      "   0.15190132]\n",
      " [-1.39154215  0.29697492 -0.37744716 ... -0.55750005  0.18393128\n",
      "  -0.44963465]]\n",
      "SVM Model bias: [0.02212088]\n"
     ]
    }
   ],
   "source": [
    "# SVM Implementation\n",
    "clf = svm.SVC()\n",
    "clf.fit(X_train.T, y_train)\n",
    "y_train_pred = clf.predict(X_train.T)\n",
    "y_val_pred = clf.predict(X_val.T)\n",
    "y_test_pred = clf.predict(X_test.T)\n",
    "print(\"Accuracy on train:\", np.mean(y_train_pred == y_train))\n",
    "print(\"Accuracy on val:\", np.mean(y_val_pred == y_val))\n",
    "print(\"Accuracy on test:\", np.mean(y_test_pred == y_test))\n",
    "print(\"SVM Model weights:\\n\", clf.support_vectors_)\n",
    "print(\"SVM Model bias:\", clf.intercept_)"
   ]
  },
  {
   "cell_type": "markdown",
   "id": "0bd914a6",
   "metadata": {},
   "source": [
    "## (c) Compare"
   ]
  },
  {
   "cell_type": "markdown",
   "id": "1f3ae058",
   "metadata": {},
   "source": [
    "(1) **[4 points]** Try to compare  models learned from (a)(3), (a)(4) and (b). Write down your explanation and data support."
   ]
  },
  {
   "cell_type": "code",
   "execution_count": 138,
   "id": "b9ebbffd",
   "metadata": {},
   "outputs": [
    {
     "name": "stdout",
     "output_type": "stream",
     "text": [
      "----------max_iter: 100 ----------\n",
      "BGD Accuracy on test: 0.985\n",
      "SGD Accuracy on test: 0.98\n",
      "SVM Accuracy on test: 0.965\n",
      "----------max_iter: 200 ----------\n",
      "BGD Accuracy on test: 0.985\n",
      "SGD Accuracy on test: 0.98\n",
      "SVM Accuracy on test: 0.965\n",
      "----------max_iter: 300 ----------\n",
      "BGD Accuracy on test: 0.985\n",
      "SGD Accuracy on test: 0.985\n",
      "SVM Accuracy on test: 0.965\n",
      "----------max_iter: 400 ----------\n",
      "BGD Accuracy on test: 0.985\n",
      "SGD Accuracy on test: 0.985\n",
      "SVM Accuracy on test: 0.965\n",
      "----------max_iter: 500 ----------\n",
      "BGD Accuracy on test: 0.985\n",
      "SGD Accuracy on test: 0.985\n",
      "SVM Accuracy on test: 0.965\n",
      "----------max_iter: 600 ----------\n",
      "BGD Accuracy on test: 0.985\n",
      "SGD Accuracy on test: 0.985\n",
      "SVM Accuracy on test: 0.965\n",
      "----------max_iter: 700 ----------\n",
      "BGD Accuracy on test: 0.985\n",
      "SGD Accuracy on test: 0.98\n",
      "SVM Accuracy on test: 0.965\n",
      "----------max_iter: 800 ----------\n",
      "BGD Accuracy on test: 0.985\n",
      "SGD Accuracy on test: 0.985\n",
      "SVM Accuracy on test: 0.965\n",
      "----------max_iter: 900 ----------\n",
      "BGD Accuracy on test: 0.985\n",
      "SGD Accuracy on test: 0.985\n",
      "SVM Accuracy on test: 0.965\n",
      "----------max_iter: 1000 ----------\n",
      "BGD Accuracy on test: 0.985\n",
      "SGD Accuracy on test: 0.98\n",
      "SVM Accuracy on test: 0.965\n"
     ]
    },
    {
     "data": {
      "image/png": "[encoded data removed]",
      "text/plain": [
       "<Figure size 640x480 with 1 Axes>"
      ]
     },
     "metadata": {},
     "output_type": "display_data"
    }
   ],
   "source": [
    "import matplotlib.pyplot as plt\n",
    "\n",
    "# Evaluation with BGD under learning rate 1e-4 with different max_iter\n",
    "# evaluate on test set with best model\n",
    "# max_iter varies from 1 to 100 with step 10\n",
    "max_iters = [i for i in range(100, 1001, 100)]\n",
    "test_BGD_accs = []\n",
    "test_SGD_accs = []\n",
    "test_SVM_accs = []\n",
    "for max_iter in max_iters:\n",
    "    print(\"----------max_iter:\", max_iter, \"----------\")\n",
    "    # BGD\n",
    "    w_curr = copy.deepcopy(w).reshape(-1, 1)\n",
    "    w0_curr = copy.deepcopy(w0).reshape(-1, 1)\n",
    "    BatchGD(X_train.T, y_train.reshape(-1, 1), w_curr, w0_curr, 1e-4, max_iter)\n",
    "    # predict on validation set\n",
    "    y_pred_BGD = BGD_predict(X_test.T, w_curr, w0_curr)\n",
    "    y_pred_classes_BGD = BGD_classify(y_pred_BGD.reshape(-1, 1)).reshape(-1)\n",
    "    acc_BGD = np.mean(y_pred_classes_BGD == y_test)\n",
    "    test_BGD_accs.append(acc_BGD)\n",
    "    # SGD\n",
    "    w_curr = copy.deepcopy(w).reshape(-1, 1)\n",
    "    w0_curr = copy.deepcopy(w0).reshape(-1, 1)\n",
    "    StochasticGD(X_train.T, y_train.reshape(-1, 1), w_curr, w0_curr, 1e-4, max_iter)\n",
    "    # predict on validation set\n",
    "    y_pred_SGD = SGD_predict(X_test.T, w_curr, w0_curr)\n",
    "    y_pred_classes_SGD = SGD_classify(y_pred_SGD.reshape(-1, 1)).reshape(-1)\n",
    "    acc_SGD = np.mean(y_pred_classes_SGD == y_test)\n",
    "    test_SGD_accs.append(acc_SGD)\n",
    "    # SVM\n",
    "    clf.fit(X_train.T, y_train)\n",
    "    y_pred_SVM = clf.predict(X_test.T)\n",
    "    acc_SVM = np.mean(y_pred_SVM == y_test)\n",
    "    test_SVM_accs.append(acc_SVM)\n",
    "\n",
    "    print(\"BGD Accuracy on test:\", acc_BGD)\n",
    "    print(\"SGD Accuracy on test:\", acc_SGD)\n",
    "    print(\"SVM Accuracy on test:\", acc_SVM)\n",
    "\n",
    "# plot the accuracy with different max_iter\n",
    "plt.plot(max_iters, test_BGD_accs, label=\"BGD\")\n",
    "plt.plot(max_iters, test_SGD_accs, label=\"SGD\")\n",
    "plt.plot(max_iters, test_SVM_accs, label=\"SVM\")\n",
    "plt.xlabel(\"max_iter\")\n",
    "plt.ylabel(\"Accuracy\")\n",
    "plt.title(\"Accuracy with different max_iter\")\n",
    "plt.legend()\n",
    "plt.show()"
   ]
  },
  {
   "cell_type": "code",
   "execution_count": 134,
   "id": "01e804bc",
   "metadata": {},
   "outputs": [
    {
     "name": "stdout",
     "output_type": "stream",
     "text": [
      "---------- 10 ----------\n",
      "BGD Accuracy on test: 0.985\n",
      "SGD Accuracy on test: 0.975\n",
      "SVM Accuracy on test: 0.965\n",
      "---------- 20 ----------\n",
      "BGD Accuracy on test: 0.985\n",
      "SGD Accuracy on test: 0.98\n",
      "SVM Accuracy on test: 0.965\n",
      "---------- 30 ----------\n",
      "BGD Accuracy on test: 0.985\n",
      "SGD Accuracy on test: 0.98\n",
      "SVM Accuracy on test: 0.965\n",
      "---------- 40 ----------\n",
      "BGD Accuracy on test: 0.985\n",
      "SGD Accuracy on test: 0.975\n",
      "SVM Accuracy on test: 0.965\n",
      "---------- 50 ----------\n",
      "BGD Accuracy on test: 0.985\n",
      "SGD Accuracy on test: 0.965\n",
      "SVM Accuracy on test: 0.965\n",
      "---------- 60 ----------\n",
      "BGD Accuracy on test: 0.985\n",
      "SGD Accuracy on test: 0.99\n",
      "SVM Accuracy on test: 0.965\n",
      "---------- 70 ----------\n",
      "BGD Accuracy on test: 0.985\n",
      "SGD Accuracy on test: 0.975\n",
      "SVM Accuracy on test: 0.965\n",
      "---------- 80 ----------\n",
      "BGD Accuracy on test: 0.985\n",
      "SGD Accuracy on test: 0.985\n",
      "SVM Accuracy on test: 0.965\n",
      "---------- 90 ----------\n",
      "BGD Accuracy on test: 0.985\n",
      "SGD Accuracy on test: 0.975\n",
      "SVM Accuracy on test: 0.965\n"
     ]
    },
    {
     "data": {
      "image/png": "[encoded data removed]",
      "text/plain": [
       "<Figure size 640x480 with 1 Axes>"
      ]
     },
     "metadata": {},
     "output_type": "display_data"
    }
   ],
   "source": [
    "import matplotlib.pyplot as plt\n",
    "\n",
    "# evaluate on test set with best model\n",
    "# test for 10 times with same learning rate and same max_iter 50\n",
    "test_BGD_accs = []\n",
    "test_SGD_accs = []\n",
    "test_SVM_accs = []\n",
    "for i in range(10, 100, 10):\n",
    "    print(\"----------\", i, \"----------\")\n",
    "    # BGD\n",
    "    w_curr = copy.deepcopy(w).reshape(-1, 1)\n",
    "    w0_curr = copy.deepcopy(w0).reshape(-1, 1)\n",
    "    BatchGD(X_train.T, y_train.reshape(-1, 1), w_curr, w0_curr, 1e-4, 50)\n",
    "    # predict on validation set\n",
    "    y_pred_BGD = BGD_predict(X_test.T, w_curr, w0_curr)\n",
    "    y_pred_classes_BGD = BGD_classify(y_pred_BGD.reshape(-1, 1)).reshape(-1)\n",
    "    acc_BGD = np.mean(y_pred_classes_BGD == y_test)\n",
    "    test_BGD_accs.append(acc_BGD)\n",
    "    # SGD\n",
    "    w_curr = copy.deepcopy(w).reshape(-1, 1)\n",
    "    w0_curr = copy.deepcopy(w0).reshape(-1, 1)\n",
    "    StochasticGD(X_train.T, y_train.reshape(-1, 1), w_curr, w0_curr, 1e-4, 50)\n",
    "    # predict on validation set\n",
    "    y_pred_SGD = SGD_predict(X_test.T, w_curr, w0_curr)\n",
    "    y_pred_classes_SGD = SGD_classify(y_pred_SGD.reshape(-1, 1)).reshape(-1)\n",
    "    acc_SGD = np.mean(y_pred_classes_SGD == y_test)\n",
    "    test_SGD_accs.append(acc_SGD)\n",
    "    # SVM\n",
    "    clf.fit(X_train.T, y_train)\n",
    "    y_pred_SVM = clf.predict(X_test.T)\n",
    "    acc_SVM = np.mean(y_pred_SVM == y_test)\n",
    "    test_SVM_accs.append(acc_SVM)\n",
    "\n",
    "    print(\"BGD Accuracy on test:\", acc_BGD)\n",
    "    print(\"SGD Accuracy on test:\", acc_SGD)\n",
    "    print(\"SVM Accuracy on test:\", acc_SVM)\n",
    "\n",
    "# plot the accuracy with different max_iter\n",
    "plt.plot([i for i in range(1, 10)], test_BGD_accs, label=\"BGD\")\n",
    "plt.plot([i for i in range(1, 10)], test_SGD_accs, label=\"SGD\")\n",
    "plt.plot([i for i in range(1, 10)], test_SVM_accs, label=\"SVM\")\n",
    "plt.xlabel(\"test times\")\n",
    "plt.ylabel(\"Accuracy\")\n",
    "plt.title(\"Accuracy with different test times\")\n",
    "plt.legend()\n",
    "plt.show()"
   ]
  },
  {
   "attachments": {},
   "cell_type": "markdown",
   "id": "0fbaa24f",
   "metadata": {},
   "source": [
    "# conclusion\n",
    "\n",
    "So, according to the data we get, we find that:\n",
    "\n",
    "BGD always has a better performance than SVM, and SGD due to the random gradient descent, it's performance is not stable, sometimes it's better than BGD, sometimes it's worse than BGD. Also, with different test times, the performance of SGD is different, but the performance of BGD and SVM is always the same.\n",
    "\n",
    "This is because:\n",
    "\n",
    "BGD updates the model parameters based on the entire training dataset, which can lead to slow convergence speed compared to SGD. However, BGD can achieve better convergence to the global minimum if the loss function is convex. BGD also has a stable direction and smooth convergence path.\n",
    "\n",
    "SGD updates model parameters based on each individual sample in the training set. It can converge faster than BGD while maintaining loss reduction, but its progress tends to be more oscillatory and noisy. In addition, the model parameters obtained by SGD  are more prone to overfitting noise in individual samples. However, it can achieve better generalization performance in large data sets by escaping from sharp local minima.\n",
    "\n",
    "SVM models aim to maximize the margin between two classes by finding the optimal \"hyperplane\" that separates the data points. SVM classification performance is thus superior when the classes are well separated while still being able to generalize when some misclassifications occur. SVM models can use kernel functions to non-linearly transform the input space into higher dimensions, which effectively improves the model's more complex decision boundaries."
   ]
  }
 ],
 "metadata": {
  "kernelspec": {
   "display_name": "ml",
   "language": "python",
   "name": "python3"
  },
  "language_info": {
   "codemirror_mode": {
    "name": "ipython",
    "version": 3
   },
   "file_extension": ".py",
   "mimetype": "text/x-python",
   "name": "python",
   "nbconvert_exporter": "python",
   "pygments_lexer": "ipython3",
   "version": "3.9.16"
  },
  "vscode": {
   "interpreter": {
    "hash": "afce4ba17b5757b0751665fe068189bb8136ee183cc24f13fdedfef264cea2cd"
   }
  }
 },
 "nbformat": 4,
 "nbformat_minor": 5
}
